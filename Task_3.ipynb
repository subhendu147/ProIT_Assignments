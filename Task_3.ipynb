{
 "cells": [
  {
   "cell_type": "markdown",
   "id": "34f17e54",
   "metadata": {},
   "source": [
    "### Submit 2 examples for each module.\n",
    "\n",
    "1.while loop\n",
    "\n",
    "2.for loop\n",
    "\n",
    "3.if else\n",
    "\n",
    "4.if elif else\n",
    "\n",
    "5.user defined functions without for loop, if condition\n",
    "\n",
    "6.user defined functions with for loop\n",
    "\n",
    "7.user defined functions with for loop and if condition\n",
    "\n",
    "8.break\n",
    "\n",
    "9.continue\n",
    "\n",
    "10.for loop with in operator\n",
    "\n",
    "11.for loop with if statement\n",
    "\n",
    "12.for loop with not in operator\n",
    "\n",
    "13.if with in operator\n",
    "\n",
    "14.if with not in opearator\n",
    "\n",
    "DAILY TASK - 3 Come up with one example for all Data Structures.\n",
    "\n",
    "DAILY TASK - 4 List comprehensions"
   ]
  },
  {
   "cell_type": "markdown",
   "id": "ab2a5607",
   "metadata": {},
   "source": [
    "### While loop"
   ]
  },
  {
   "cell_type": "code",
   "execution_count": 1,
   "id": "d595949a",
   "metadata": {},
   "outputs": [
    {
     "name": "stdout",
     "output_type": "stream",
     "text": [
      "1\n",
      "2\n",
      "3\n",
      "4\n",
      "5\n"
     ]
    }
   ],
   "source": [
    "count=1\n",
    "while count<=5:\n",
    "    print(count)\n",
    "    count+=1"
   ]
  },
  {
   "cell_type": "code",
   "execution_count": 6,
   "id": "863418ff",
   "metadata": {},
   "outputs": [
    {
     "name": "stdout",
     "output_type": "stream",
     "text": [
      "hello!\n",
      "hello!\n",
      "hello!\n",
      "hello!\n",
      "hello!\n",
      "hello!\n",
      "hello!\n"
     ]
    }
   ],
   "source": [
    "count=0\n",
    "while count<=6:\n",
    "    count+=1\n",
    "    print(\"hello!\")"
   ]
  },
  {
   "cell_type": "code",
   "execution_count": 3,
   "id": "5ad2ac94",
   "metadata": {},
   "outputs": [
    {
     "name": "stdout",
     "output_type": "stream",
     "text": [
      "Calender\n",
      "Calender\n",
      "Calender\n",
      "Calender\n",
      "Calender\n",
      "Calender\n",
      "Calender\n",
      "Calender\n"
     ]
    }
   ],
   "source": [
    "i=0\n",
    "str= \"Calender\"\n",
    "while i<len(str):\n",
    "    print(str)\n",
    "    i+=1"
   ]
  },
  {
   "cell_type": "markdown",
   "id": "a588bcc0",
   "metadata": {},
   "source": [
    "### For loop"
   ]
  },
  {
   "cell_type": "code",
   "execution_count": 4,
   "id": "19ff4c9c",
   "metadata": {},
   "outputs": [],
   "source": [
    "colors= ['yellow','red','white','black','maroon']"
   ]
  },
  {
   "cell_type": "code",
   "execution_count": 5,
   "id": "f9001d2d",
   "metadata": {},
   "outputs": [
    {
     "name": "stdout",
     "output_type": "stream",
     "text": [
      "yellow\n",
      "red\n",
      "white\n",
      "black\n",
      "maroon\n"
     ]
    }
   ],
   "source": [
    "for i in colors:\n",
    "    print(i)"
   ]
  },
  {
   "cell_type": "code",
   "execution_count": 14,
   "id": "dab01b04",
   "metadata": {},
   "outputs": [],
   "source": [
    "list= {12,23,34,45,56,78}"
   ]
  },
  {
   "cell_type": "code",
   "execution_count": 7,
   "id": "1139236f",
   "metadata": {},
   "outputs": [
    {
     "name": "stdout",
     "output_type": "stream",
     "text": [
      "34\n",
      "23\n",
      "56\n",
      "12\n",
      "45\n",
      "78\n"
     ]
    }
   ],
   "source": [
    "for i in list:\n",
    "    print(i)"
   ]
  },
  {
   "cell_type": "code",
   "execution_count": null,
   "id": "e72100b9",
   "metadata": {},
   "outputs": [],
   "source": []
  },
  {
   "cell_type": "markdown",
   "id": "9cd32258",
   "metadata": {},
   "source": [
    "#### If  Statement"
   ]
  },
  {
   "cell_type": "code",
   "execution_count": 4,
   "id": "db751bd4",
   "metadata": {},
   "outputs": [
    {
     "name": "stdout",
     "output_type": "stream",
     "text": [
      "Enter your number : 67\n",
      "Number is positive.\n"
     ]
    }
   ],
   "source": [
    "number=int(input(\"Enter your number : \"))\n",
    "if number > 0:\n",
    "    print('Number is positive.')\n"
   ]
  },
  {
   "cell_type": "code",
   "execution_count": 5,
   "id": "cbe149c4",
   "metadata": {},
   "outputs": [
    {
     "name": "stdout",
     "output_type": "stream",
     "text": [
      "Enter your number: 10\n",
      "number is between 5 and 10\n"
     ]
    }
   ],
   "source": [
    "num= int(input(\"Enter your number: \"))\n",
    "if num >=5 and num <=15:\n",
    "    print(\"number is between 5 and 10\")"
   ]
  },
  {
   "cell_type": "code",
   "execution_count": null,
   "id": "863c6d90",
   "metadata": {},
   "outputs": [],
   "source": []
  },
  {
   "cell_type": "markdown",
   "id": "d80b7b8d",
   "metadata": {},
   "source": [
    "### If- Else Statement"
   ]
  },
  {
   "cell_type": "code",
   "execution_count": 7,
   "id": "63a57f37",
   "metadata": {},
   "outputs": [
    {
     "name": "stdout",
     "output_type": "stream",
     "text": [
      "Enter your number: -2\n",
      "Negative number\n"
     ]
    }
   ],
   "source": [
    "num1= int(input(\"Enter your number: \"))\n",
    "if num1 > 0:\n",
    "    print('Positive number')\n",
    "\n",
    "else:\n",
    "    print('Negative number')"
   ]
  },
  {
   "cell_type": "code",
   "execution_count": 8,
   "id": "f1e76765",
   "metadata": {},
   "outputs": [
    {
     "name": "stdout",
     "output_type": "stream",
     "text": [
      "Enter your number: -78\n",
      "Negative\n"
     ]
    }
   ],
   "source": [
    "num2= int(input(\"Enter your number: \"))\n",
    "if num2 >=0:\n",
    "    print(\"Greater than zero\")\n",
    "else:\n",
    "    print(\"Negative\")"
   ]
  },
  {
   "cell_type": "code",
   "execution_count": null,
   "id": "705f5445",
   "metadata": {},
   "outputs": [],
   "source": []
  },
  {
   "cell_type": "markdown",
   "id": "f9d759c3",
   "metadata": {},
   "source": [
    "### If...Elif...Else Statement"
   ]
  },
  {
   "cell_type": "code",
   "execution_count": 11,
   "id": "4061c33f",
   "metadata": {},
   "outputs": [
    {
     "name": "stdout",
     "output_type": "stream",
     "text": [
      "Enter your number: 0\n",
      "Zero\n"
     ]
    }
   ],
   "source": [
    "num_1= int(input(\"Enter your number: \"))\n",
    "if num_1 > 0:\n",
    "    print(\"Positive number\")\n",
    "\n",
    "elif num_1 == 0:\n",
    "    print('Zero')\n",
    "else:\n",
    "    print('Negative number')"
   ]
  },
  {
   "cell_type": "code",
   "execution_count": 12,
   "id": "aadd8cda",
   "metadata": {},
   "outputs": [
    {
     "name": "stdout",
     "output_type": "stream",
     "text": [
      "Enter your number: -20\n",
      "Negative number\n"
     ]
    }
   ],
   "source": [
    "num_1= int(input(\"Enter your number: \"))\n",
    "if num_1 > 0:\n",
    "    print(\"Positive number\")\n",
    "\n",
    "elif num_1 == 0:\n",
    "    print('Zero')\n",
    "else:\n",
    "    print('Negative number')"
   ]
  },
  {
   "cell_type": "code",
   "execution_count": null,
   "id": "a3cd4d7b",
   "metadata": {},
   "outputs": [],
   "source": []
  },
  {
   "cell_type": "code",
   "execution_count": null,
   "id": "bfe7ba53",
   "metadata": {},
   "outputs": [],
   "source": []
  },
  {
   "cell_type": "markdown",
   "id": "7913d549",
   "metadata": {},
   "source": [
    "### Break and Continue statement"
   ]
  },
  {
   "cell_type": "code",
   "execution_count": 14,
   "id": "11cc2404",
   "metadata": {},
   "outputs": [
    {
     "name": "stdout",
     "output_type": "stream",
     "text": [
      "0\n",
      "1\n",
      "2\n",
      "3\n",
      "4\n"
     ]
    }
   ],
   "source": [
    "for i in range(7):\n",
    "    if i == 5:\n",
    "        break\n",
    "    print(i)"
   ]
  },
  {
   "cell_type": "code",
   "execution_count": 24,
   "id": "dbf3c80e",
   "metadata": {},
   "outputs": [
    {
     "name": "stdout",
     "output_type": "stream",
     "text": [
      "0\n",
      "1\n",
      "2\n"
     ]
    }
   ],
   "source": [
    "for i in range(4):\n",
    "    if i==3 :\n",
    "        break\n",
    "    print(i)"
   ]
  },
  {
   "cell_type": "code",
   "execution_count": 39,
   "id": "29f86cc4",
   "metadata": {},
   "outputs": [
    {
     "name": "stdout",
     "output_type": "stream",
     "text": [
      "1\n",
      "2\n"
     ]
    }
   ],
   "source": [
    "num = 0\n",
    "\n",
    "while num < 10:\n",
    "    num += 1\n",
    "    \n",
    "    if num == 3:\n",
    "        break\n",
    "\n",
    "    print(num)"
   ]
  },
  {
   "cell_type": "code",
   "execution_count": 37,
   "id": "5704f1bc",
   "metadata": {},
   "outputs": [
    {
     "name": "stdout",
     "output_type": "stream",
     "text": [
      "1\n",
      "3\n",
      "5\n",
      "7\n",
      "9\n"
     ]
    }
   ],
   "source": [
    "num = 0\n",
    "\n",
    "while num < 10:\n",
    "    num += 1\n",
    "    \n",
    "    if (num % 2) == 0:\n",
    "        continue\n",
    "\n",
    "    print(num)"
   ]
  },
  {
   "cell_type": "code",
   "execution_count": null,
   "id": "e7232ff4",
   "metadata": {},
   "outputs": [],
   "source": []
  },
  {
   "cell_type": "markdown",
   "id": "f1281551",
   "metadata": {},
   "source": [
    "### Data Structures"
   ]
  },
  {
   "cell_type": "markdown",
   "id": "4ee86d32",
   "metadata": {},
   "source": [
    "### List, Tuple, Set , Dictionary"
   ]
  },
  {
   "cell_type": "markdown",
   "id": "31b51a39",
   "metadata": {},
   "source": [
    "#### List- Ordered collection of data\n",
    "      It is mutable\n",
    "      Duplicates are allowed"
   ]
  },
  {
   "cell_type": "code",
   "execution_count": 40,
   "id": "b5f106c0",
   "metadata": {},
   "outputs": [],
   "source": [
    "list= [\"phy\",\"chem\",\"maths\",\"electronics\",\"eng\"]"
   ]
  },
  {
   "cell_type": "code",
   "execution_count": 41,
   "id": "3657ae02",
   "metadata": {},
   "outputs": [
    {
     "name": "stdout",
     "output_type": "stream",
     "text": [
      "electronics\n"
     ]
    }
   ],
   "source": [
    "print(list[3])"
   ]
  },
  {
   "cell_type": "code",
   "execution_count": 42,
   "id": "dc8ea087",
   "metadata": {},
   "outputs": [
    {
     "name": "stdout",
     "output_type": "stream",
     "text": [
      "['chem', 'maths']\n"
     ]
    }
   ],
   "source": [
    "print(list[1:3])"
   ]
  },
  {
   "cell_type": "code",
   "execution_count": 48,
   "id": "40ade639",
   "metadata": {},
   "outputs": [],
   "source": [
    "list.append(\"history\")"
   ]
  },
  {
   "cell_type": "code",
   "execution_count": 49,
   "id": "ea2afb1a",
   "metadata": {},
   "outputs": [
    {
     "data": {
      "text/plain": [
       "['phy', 'chem', 'maths', 'electronics', 'eng', 'history', 'history']"
      ]
     },
     "execution_count": 49,
     "metadata": {},
     "output_type": "execute_result"
    }
   ],
   "source": [
    "list"
   ]
  },
  {
   "cell_type": "code",
   "execution_count": 51,
   "id": "53637b35",
   "metadata": {},
   "outputs": [
    {
     "data": {
      "text/plain": [
       "'history'"
      ]
     },
     "execution_count": 51,
     "metadata": {},
     "output_type": "execute_result"
    }
   ],
   "source": [
    "list.pop()"
   ]
  },
  {
   "cell_type": "code",
   "execution_count": 52,
   "id": "1222e47c",
   "metadata": {},
   "outputs": [
    {
     "data": {
      "text/plain": [
       "['phy', 'chem', 'maths', 'electronics', 'eng', 'history']"
      ]
     },
     "execution_count": 52,
     "metadata": {},
     "output_type": "execute_result"
    }
   ],
   "source": [
    "list"
   ]
  },
  {
   "cell_type": "code",
   "execution_count": 53,
   "id": "c877d7d7",
   "metadata": {},
   "outputs": [
    {
     "data": {
      "text/plain": [
       "['phy', 'maths', 'electronics', 'eng', 'history']"
      ]
     },
     "execution_count": 53,
     "metadata": {},
     "output_type": "execute_result"
    }
   ],
   "source": [
    "list.remove(\"chem\")\n",
    "list"
   ]
  },
  {
   "cell_type": "code",
   "execution_count": null,
   "id": "05119c97",
   "metadata": {},
   "outputs": [],
   "source": []
  },
  {
   "cell_type": "markdown",
   "id": "1c20482f",
   "metadata": {},
   "source": [
    "### Tuple"
   ]
  },
  {
   "cell_type": "markdown",
   "id": "c284c5fd",
   "metadata": {},
   "source": [
    "1.Immutable\n",
    "\n",
    "2.Duplicates are allowed"
   ]
  },
  {
   "cell_type": "code",
   "execution_count": 55,
   "id": "aff00df0",
   "metadata": {},
   "outputs": [],
   "source": [
    "tup= (1,2,3,4,5,[2,4,6,8])\n",
    "tup1= ('arun','yog','chan','subh')"
   ]
  },
  {
   "cell_type": "code",
   "execution_count": 58,
   "id": "9513a0a4",
   "metadata": {},
   "outputs": [
    {
     "name": "stdout",
     "output_type": "stream",
     "text": [
      "(1, 2, 3, 4, 5, [2, 4, 6, 8])\n"
     ]
    }
   ],
   "source": [
    "print(tup)"
   ]
  },
  {
   "cell_type": "code",
   "execution_count": 59,
   "id": "7bbd482d",
   "metadata": {},
   "outputs": [
    {
     "name": "stdout",
     "output_type": "stream",
     "text": [
      "('arun', 'yog', 'chan', 'subh')\n"
     ]
    }
   ],
   "source": [
    "print(tup1)"
   ]
  },
  {
   "cell_type": "code",
   "execution_count": 60,
   "id": "a38b11be",
   "metadata": {},
   "outputs": [
    {
     "name": "stdout",
     "output_type": "stream",
     "text": [
      "<class 'tuple'>\n"
     ]
    }
   ],
   "source": [
    "print(type(tup1))"
   ]
  },
  {
   "cell_type": "code",
   "execution_count": 61,
   "id": "5b25ed27",
   "metadata": {},
   "outputs": [
    {
     "name": "stdout",
     "output_type": "stream",
     "text": [
      "<class 'tuple'>\n"
     ]
    }
   ],
   "source": [
    "print(type(tup))"
   ]
  },
  {
   "cell_type": "code",
   "execution_count": 62,
   "id": "9139d837",
   "metadata": {},
   "outputs": [
    {
     "name": "stdout",
     "output_type": "stream",
     "text": [
      "[2, 4, 6, 8]\n"
     ]
    }
   ],
   "source": [
    "print(tup[5])"
   ]
  },
  {
   "cell_type": "code",
   "execution_count": 63,
   "id": "0b9230c2",
   "metadata": {},
   "outputs": [
    {
     "name": "stdout",
     "output_type": "stream",
     "text": [
      "chan\n"
     ]
    }
   ],
   "source": [
    "print(tup1[2])"
   ]
  },
  {
   "cell_type": "code",
   "execution_count": null,
   "id": "d0f7da4f",
   "metadata": {},
   "outputs": [],
   "source": []
  },
  {
   "cell_type": "markdown",
   "id": "731a08cb",
   "metadata": {},
   "source": [
    "### Dictionary"
   ]
  },
  {
   "cell_type": "markdown",
   "id": "c3fdb6d5",
   "metadata": {},
   "source": [
    "#### It is a Key-value pair"
   ]
  },
  {
   "cell_type": "code",
   "execution_count": 64,
   "id": "b62d0386",
   "metadata": {},
   "outputs": [],
   "source": [
    "tour_details={\"ram\":\"mumbai\",\n",
    "              \"shyam\":\"delhi\",\n",
    "              \"shagun\":\"blr\",\n",
    "              \"gungun\":\"kerala\"}"
   ]
  },
  {
   "cell_type": "code",
   "execution_count": 66,
   "id": "878beaa4",
   "metadata": {},
   "outputs": [
    {
     "data": {
      "text/plain": [
       "dict_keys(['ram', 'shyam', 'shagun', 'gungun'])"
      ]
     },
     "execution_count": 66,
     "metadata": {},
     "output_type": "execute_result"
    }
   ],
   "source": [
    "tour_details.keys()"
   ]
  },
  {
   "cell_type": "code",
   "execution_count": 67,
   "id": "f35c9944",
   "metadata": {},
   "outputs": [
    {
     "data": {
      "text/plain": [
       "dict_values(['mumbai', 'delhi', 'blr', 'kerala'])"
      ]
     },
     "execution_count": 67,
     "metadata": {},
     "output_type": "execute_result"
    }
   ],
   "source": [
    "tour_details.values()"
   ]
  },
  {
   "cell_type": "code",
   "execution_count": 69,
   "id": "96c24091",
   "metadata": {},
   "outputs": [
    {
     "data": {
      "text/plain": [
       "'mumbai'"
      ]
     },
     "execution_count": 69,
     "metadata": {},
     "output_type": "execute_result"
    }
   ],
   "source": [
    "tour_details[\"ram\"]"
   ]
  },
  {
   "cell_type": "code",
   "execution_count": 70,
   "id": "f6cf6b39",
   "metadata": {},
   "outputs": [
    {
     "data": {
      "text/plain": [
       "'kerala'"
      ]
     },
     "execution_count": 70,
     "metadata": {},
     "output_type": "execute_result"
    }
   ],
   "source": [
    "tour_details[\"gungun\"]"
   ]
  },
  {
   "cell_type": "code",
   "execution_count": 71,
   "id": "7192880e",
   "metadata": {},
   "outputs": [
    {
     "name": "stdout",
     "output_type": "stream",
     "text": [
      "ram mumbai\n",
      "shyam delhi\n",
      "shagun blr\n",
      "gungun kerala\n"
     ]
    }
   ],
   "source": [
    "for key,value in tour_details.items():\n",
    "    print(key,value)\n",
    "    "
   ]
  },
  {
   "cell_type": "code",
   "execution_count": null,
   "id": "fa54c37e",
   "metadata": {},
   "outputs": [],
   "source": []
  },
  {
   "cell_type": "markdown",
   "id": "3fcc2374",
   "metadata": {},
   "source": [
    "### Set"
   ]
  },
  {
   "cell_type": "markdown",
   "id": "8a185208",
   "metadata": {},
   "source": [
    "1. Sets are used to store multiple items in a single variable.\n",
    "\n",
    "2. A set is a collection which is unordered, unchangeable*, and unindexed.\n"
   ]
  },
  {
   "cell_type": "code",
   "execution_count": 74,
   "id": "b385c789",
   "metadata": {},
   "outputs": [],
   "source": [
    "set= {\"Ram\",\"shyam\",12,28,(34,45,56)}"
   ]
  },
  {
   "cell_type": "code",
   "execution_count": 75,
   "id": "6954d992",
   "metadata": {},
   "outputs": [
    {
     "name": "stdout",
     "output_type": "stream",
     "text": [
      "{'shyam', 'Ram', 12, 28, (34, 45, 56)}\n"
     ]
    }
   ],
   "source": [
    "print(set)"
   ]
  },
  {
   "cell_type": "code",
   "execution_count": 76,
   "id": "bc5c7997",
   "metadata": {},
   "outputs": [
    {
     "name": "stdout",
     "output_type": "stream",
     "text": [
      "5\n"
     ]
    }
   ],
   "source": [
    "print(len(set))"
   ]
  },
  {
   "cell_type": "code",
   "execution_count": 77,
   "id": "4e4b9515",
   "metadata": {},
   "outputs": [
    {
     "name": "stdout",
     "output_type": "stream",
     "text": [
      "<class 'set'>\n"
     ]
    }
   ],
   "source": [
    "print(type(set))"
   ]
  },
  {
   "cell_type": "code",
   "execution_count": null,
   "id": "bd10586e",
   "metadata": {},
   "outputs": [],
   "source": []
  }
 ],
 "metadata": {
  "kernelspec": {
   "display_name": "Python 3 (ipykernel)",
   "language": "python",
   "name": "python3"
  },
  "language_info": {
   "codemirror_mode": {
    "name": "ipython",
    "version": 3
   },
   "file_extension": ".py",
   "mimetype": "text/x-python",
   "name": "python",
   "nbconvert_exporter": "python",
   "pygments_lexer": "ipython3",
   "version": "3.9.7"
  }
 },
 "nbformat": 4,
 "nbformat_minor": 5
}
