{
 "cells": [
  {
   "cell_type": "code",
   "execution_count": 1,
   "id": "5178f071",
   "metadata": {},
   "outputs": [],
   "source": [
    "### Task-2  Find the factors of a number"
   ]
  },
  {
   "cell_type": "markdown",
   "id": "6afd5194",
   "metadata": {},
   "source": [
    "Daily Task - 2\n",
    "\n",
    "Submit 2 examples for each module.\n",
    "1. for loop\n",
    "2. user defined functions without for loop\n",
    "3. user defined functions with for loop\n",
    "4. for loop with in operator\n",
    "5. for loop with not in operator"
   ]
  },
  {
   "cell_type": "code",
   "execution_count": 3,
   "id": "60a55432",
   "metadata": {},
   "outputs": [],
   "source": [
    "### Find the factors of a number"
   ]
  },
  {
   "cell_type": "code",
   "execution_count": 4,
   "id": "4b64eea1",
   "metadata": {},
   "outputs": [
    {
     "name": "stdout",
     "output_type": "stream",
     "text": [
      "Enter your number: 70\n",
      "1\n",
      "2\n",
      "5\n",
      "7\n",
      "10\n",
      "14\n",
      "35\n",
      "70\n"
     ]
    }
   ],
   "source": [
    "x= int(input(\"Enter your number: \"))\n",
    "for i in range(1,x+1):\n",
    "    if x%i == 0:\n",
    "        print(i)"
   ]
  },
  {
   "cell_type": "code",
   "execution_count": 5,
   "id": "48c96efe",
   "metadata": {},
   "outputs": [],
   "source": [
    "#### 1. For loop"
   ]
  },
  {
   "cell_type": "code",
   "execution_count": 6,
   "id": "b6a18a41",
   "metadata": {},
   "outputs": [],
   "source": [
    "colors= ['yellow','red','white','black','maroon']"
   ]
  },
  {
   "cell_type": "code",
   "execution_count": 7,
   "id": "140d2920",
   "metadata": {},
   "outputs": [
    {
     "name": "stdout",
     "output_type": "stream",
     "text": [
      "yellow\n",
      "red\n",
      "white\n",
      "black\n",
      "maroon\n"
     ]
    }
   ],
   "source": [
    "for i in colors:\n",
    "    print(i)"
   ]
  },
  {
   "cell_type": "code",
   "execution_count": 8,
   "id": "e31e23a2",
   "metadata": {},
   "outputs": [],
   "source": [
    "list= {12,23,34,45,56,78}"
   ]
  },
  {
   "cell_type": "code",
   "execution_count": 9,
   "id": "b52b67b0",
   "metadata": {},
   "outputs": [
    {
     "name": "stdout",
     "output_type": "stream",
     "text": [
      "34\n",
      "23\n",
      "56\n",
      "12\n",
      "45\n",
      "78\n"
     ]
    }
   ],
   "source": [
    "for i in list:\n",
    "    print(i)"
   ]
  },
  {
   "cell_type": "code",
   "execution_count": 10,
   "id": "544103e9",
   "metadata": {},
   "outputs": [],
   "source": [
    "zoo=['tiger','bear','zirraffe','elephant','kangaroo']"
   ]
  },
  {
   "cell_type": "code",
   "execution_count": 11,
   "id": "c452dc04",
   "metadata": {},
   "outputs": [
    {
     "name": "stdout",
     "output_type": "stream",
     "text": [
      "tiger\n",
      "bear\n",
      "zirraffe\n",
      "elephant\n",
      "kangaroo\n"
     ]
    }
   ],
   "source": [
    "for i in zoo:\n",
    "    print(i)"
   ]
  },
  {
   "cell_type": "code",
   "execution_count": 12,
   "id": "327e6c7d",
   "metadata": {},
   "outputs": [
    {
     "name": "stdout",
     "output_type": "stream",
     "text": [
      "1\n",
      "2\n",
      "3\n",
      "4\n",
      "5\n",
      "6\n"
     ]
    }
   ],
   "source": [
    "for i in range(1,7):\n",
    "    print(i)"
   ]
  },
  {
   "cell_type": "code",
   "execution_count": 13,
   "id": "2c589397",
   "metadata": {},
   "outputs": [],
   "source": [
    "### 2. User-defined function without for loop"
   ]
  },
  {
   "cell_type": "code",
   "execution_count": 14,
   "id": "32795fa4",
   "metadata": {},
   "outputs": [
    {
     "name": "stdout",
     "output_type": "stream",
     "text": [
      "Enter your number: 30\n",
      "Square of the number is:  900\n"
     ]
    }
   ],
   "source": [
    "x= int(input(\"Enter your number: \"))\n",
    "def square_num(x):\n",
    "    return x**2\n",
    "print(\"Square of the number is: \",square_num(x))    "
   ]
  },
  {
   "cell_type": "code",
   "execution_count": 16,
   "id": "b82d9916",
   "metadata": {},
   "outputs": [
    {
     "name": "stdout",
     "output_type": "stream",
     "text": [
      "Enter your number: 109\n",
      "Remainder is:  1\n"
     ]
    }
   ],
   "source": [
    "y= int(input(\"Enter your number: \"))\n",
    "def remainder(y):\n",
    "    return y%3\n",
    "print(\"Remainder is: \",remainder(y))"
   ]
  },
  {
   "cell_type": "code",
   "execution_count": 17,
   "id": "6247d197",
   "metadata": {},
   "outputs": [],
   "source": [
    "### 3. Use-defined function with for loop"
   ]
  },
  {
   "cell_type": "code",
   "execution_count": 18,
   "id": "347ca865",
   "metadata": {},
   "outputs": [],
   "source": [
    "def print_numbers(n):\n",
    "    for i in range(1,n+1):\n",
    "        print(i)      "
   ]
  },
  {
   "cell_type": "code",
   "execution_count": 19,
   "id": "a06f716c",
   "metadata": {},
   "outputs": [
    {
     "name": "stdout",
     "output_type": "stream",
     "text": [
      "1\n",
      "2\n",
      "3\n",
      "4\n",
      "5\n",
      "6\n",
      "7\n",
      "8\n",
      "9\n",
      "10\n"
     ]
    }
   ],
   "source": [
    "print_numbers(10)"
   ]
  },
  {
   "cell_type": "code",
   "execution_count": 20,
   "id": "4b2c1af4",
   "metadata": {},
   "outputs": [
    {
     "name": "stdout",
     "output_type": "stream",
     "text": [
      "Arguement values are: \n",
      "Welcome\n",
      "home\n"
     ]
    }
   ],
   "source": [
    "def my_func(*arg):\n",
    "    for i in arg:\n",
    "        print(i)\n",
    "print(\"Arguement values are: \")\n",
    "my_func(\"Welcome\",\"home\")"
   ]
  },
  {
   "cell_type": "code",
   "execution_count": 21,
   "id": "b9affbdf",
   "metadata": {},
   "outputs": [
    {
     "name": "stdout",
     "output_type": "stream",
     "text": [
      "key arguements are: \n",
      "key_1\n",
      "key_2\n",
      "key_3\n"
     ]
    }
   ],
   "source": [
    "def func_2(**key):\n",
    "    for i in key:\n",
    "        print(i)\n",
    "print(\"key arguements are: \")\n",
    "func_2(key_1=\"large\",key_2=\"medium\",key_3=\"small\")"
   ]
  },
  {
   "cell_type": "code",
   "execution_count": null,
   "id": "a81b9f7b",
   "metadata": {},
   "outputs": [],
   "source": []
  },
  {
   "cell_type": "code",
   "execution_count": 22,
   "id": "a9b92705",
   "metadata": {},
   "outputs": [],
   "source": [
    "### 4. For loop with IN operator"
   ]
  },
  {
   "cell_type": "code",
   "execution_count": 23,
   "id": "57db57c0",
   "metadata": {},
   "outputs": [],
   "source": [
    "fruits= [\"pine\",\"strawberry\",\"mango\"]"
   ]
  },
  {
   "cell_type": "code",
   "execution_count": 24,
   "id": "d37bfadb",
   "metadata": {},
   "outputs": [
    {
     "name": "stdout",
     "output_type": "stream",
     "text": [
      "pine\n",
      "strawberry\n",
      "mango\n"
     ]
    }
   ],
   "source": [
    "for x in fruits:\n",
    "    print(x)"
   ]
  },
  {
   "cell_type": "code",
   "execution_count": 25,
   "id": "50a8773e",
   "metadata": {},
   "outputs": [],
   "source": [
    "anim=[\"lion\",\"bear\",\"tiger\",\"ape\"]"
   ]
  },
  {
   "cell_type": "code",
   "execution_count": 26,
   "id": "fd563839",
   "metadata": {},
   "outputs": [
    {
     "name": "stdout",
     "output_type": "stream",
     "text": [
      "lion\n",
      "bear\n",
      "tiger\n",
      "ape\n"
     ]
    }
   ],
   "source": [
    "for i in anim:\n",
    "    print(i)"
   ]
  },
  {
   "cell_type": "code",
   "execution_count": 27,
   "id": "829c8ef1",
   "metadata": {},
   "outputs": [
    {
     "name": "stdout",
     "output_type": "stream",
     "text": [
      "E\n",
      "l\n",
      "e\n",
      "p\n",
      "h\n",
      "a\n",
      "n\n",
      "t\n"
     ]
    }
   ],
   "source": [
    "for i in \"Elephant\":\n",
    "    print(i)"
   ]
  },
  {
   "cell_type": "code",
   "execution_count": 28,
   "id": "cde982c8",
   "metadata": {},
   "outputs": [
    {
     "name": "stdout",
     "output_type": "stream",
     "text": [
      "lion\n",
      "bear\n",
      "tiger\n"
     ]
    }
   ],
   "source": [
    "for i in anim:\n",
    "    print(i)\n",
    "    if i== \"tiger\":\n",
    "        break"
   ]
  },
  {
   "cell_type": "code",
   "execution_count": 29,
   "id": "1b8bd216",
   "metadata": {},
   "outputs": [
    {
     "name": "stdout",
     "output_type": "stream",
     "text": [
      "pine\n",
      "strawberry\n"
     ]
    }
   ],
   "source": [
    "for i in fruits:\n",
    "    if i==\"mango\":\n",
    "        break\n",
    "    print(i)"
   ]
  },
  {
   "cell_type": "code",
   "execution_count": null,
   "id": "94959a1d",
   "metadata": {},
   "outputs": [],
   "source": []
  }
 ],
 "metadata": {
  "kernelspec": {
   "display_name": "Python 3 (ipykernel)",
   "language": "python",
   "name": "python3"
  },
  "language_info": {
   "codemirror_mode": {
    "name": "ipython",
    "version": 3
   },
   "file_extension": ".py",
   "mimetype": "text/x-python",
   "name": "python",
   "nbconvert_exporter": "python",
   "pygments_lexer": "ipython3",
   "version": "3.9.7"
  }
 },
 "nbformat": 4,
 "nbformat_minor": 5
}
