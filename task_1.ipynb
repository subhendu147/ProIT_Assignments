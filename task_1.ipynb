{
 "cells": [
  {
   "cell_type": "markdown",
   "id": "5db9770c",
   "metadata": {},
   "source": [
    "### String Functions"
   ]
  },
  {
   "cell_type": "code",
   "execution_count": 1,
   "id": "f63cd611",
   "metadata": {},
   "outputs": [],
   "source": [
    "#Capitalize()\n",
    "#converts first character to uppercase and others to lowercase\n",
    "#capitalized_string = sentence.capitalize()"
   ]
  },
  {
   "cell_type": "code",
   "execution_count": 6,
   "id": "c9d0b46c",
   "metadata": {},
   "outputs": [],
   "source": [
    "sen= 'hey chandan'"
   ]
  },
  {
   "cell_type": "code",
   "execution_count": 8,
   "id": "487ae687",
   "metadata": {},
   "outputs": [
    {
     "data": {
      "text/plain": [
       "'Hey chandan'"
      ]
     },
     "execution_count": 8,
     "metadata": {},
     "output_type": "execute_result"
    }
   ],
   "source": [
    "sen=sen.capitalize()\n",
    "sen"
   ]
  },
  {
   "cell_type": "code",
   "execution_count": 13,
   "id": "661de06e",
   "metadata": {},
   "outputs": [],
   "source": [
    "sen1='hey amar'"
   ]
  },
  {
   "cell_type": "code",
   "execution_count": 14,
   "id": "a2db05e1",
   "metadata": {},
   "outputs": [
    {
     "data": {
      "text/plain": [
       "'Hey amar'"
      ]
     },
     "execution_count": 14,
     "metadata": {},
     "output_type": "execute_result"
    }
   ],
   "source": [
    "sen1= sen1.capitalize()\n",
    "sen1"
   ]
  },
  {
   "cell_type": "code",
   "execution_count": 15,
   "id": "5c49a2cc",
   "metadata": {},
   "outputs": [],
   "source": [
    "sen2= 'i love python'"
   ]
  },
  {
   "cell_type": "code",
   "execution_count": 16,
   "id": "021b4a11",
   "metadata": {},
   "outputs": [
    {
     "data": {
      "text/plain": [
       "'I love python'"
      ]
     },
     "execution_count": 16,
     "metadata": {},
     "output_type": "execute_result"
    }
   ],
   "source": [
    "sen2=sen2.capitalize()\n",
    "sen2"
   ]
  },
  {
   "cell_type": "code",
   "execution_count": 1,
   "id": "b33e5005",
   "metadata": {},
   "outputs": [],
   "source": [
    "# Center()\n",
    "# returns the centered padded string of length \n",
    "# str.center(width, [fillchar])"
   ]
  },
  {
   "cell_type": "code",
   "execution_count": 2,
   "id": "c6d1c03a",
   "metadata": {},
   "outputs": [],
   "source": [
    "x= 'How are you feeling'"
   ]
  },
  {
   "cell_type": "code",
   "execution_count": 5,
   "id": "d292612a",
   "metadata": {},
   "outputs": [
    {
     "data": {
      "text/plain": [
       "'**How are you feeling***'"
      ]
     },
     "execution_count": 5,
     "metadata": {},
     "output_type": "execute_result"
    }
   ],
   "source": [
    "x= x.center(24,'*')\n",
    "x"
   ]
  },
  {
   "cell_type": "code",
   "execution_count": 6,
   "id": "0a142a2c",
   "metadata": {},
   "outputs": [
    {
     "data": {
      "text/plain": [
       "'#Good morning guys##'"
      ]
     },
     "execution_count": 6,
     "metadata": {},
     "output_type": "execute_result"
    }
   ],
   "source": [
    "y= 'Good morning guys'\n",
    "y=y.center(20,'#')\n",
    "y"
   ]
  },
  {
   "cell_type": "code",
   "execution_count": 7,
   "id": "be32ec97",
   "metadata": {},
   "outputs": [],
   "source": [
    "# Casefold()\n",
    "# convert all characters to lowercase\n",
    "# str.casefold()"
   ]
  },
  {
   "cell_type": "code",
   "execution_count": 10,
   "id": "742f9d7f",
   "metadata": {},
   "outputs": [],
   "source": [
    "str= 'NO WORRIES'"
   ]
  },
  {
   "cell_type": "code",
   "execution_count": 11,
   "id": "ebbcf315",
   "metadata": {},
   "outputs": [
    {
     "data": {
      "text/plain": [
       "'no worries'"
      ]
     },
     "execution_count": 11,
     "metadata": {},
     "output_type": "execute_result"
    }
   ],
   "source": [
    "str= str.casefold()\n",
    "str"
   ]
  },
  {
   "cell_type": "code",
   "execution_count": 12,
   "id": "e84eb466",
   "metadata": {},
   "outputs": [],
   "source": [
    "str1= 'HEY THERE!'"
   ]
  },
  {
   "cell_type": "code",
   "execution_count": 13,
   "id": "f054e24f",
   "metadata": {},
   "outputs": [
    {
     "data": {
      "text/plain": [
       "'hey there!'"
      ]
     },
     "execution_count": 13,
     "metadata": {},
     "output_type": "execute_result"
    }
   ],
   "source": [
    "str1= str1.casefold()\n",
    "str1"
   ]
  },
  {
   "cell_type": "code",
   "execution_count": 14,
   "id": "79cc4ea9",
   "metadata": {},
   "outputs": [],
   "source": [
    "# String count\n",
    "# The count() method returns the number of occurrences of a substring in the given string.\n",
    "# string.count(substring, start=..., end=...)"
   ]
  },
  {
   "cell_type": "code",
   "execution_count": 18,
   "id": "dfdc28cc",
   "metadata": {},
   "outputs": [],
   "source": [
    "a= 'python is popular nowadays'"
   ]
  },
  {
   "cell_type": "code",
   "execution_count": 20,
   "id": "57b0b95c",
   "metadata": {},
   "outputs": [
    {
     "name": "stdout",
     "output_type": "stream",
     "text": [
      "The count of 'P' is:  3\n"
     ]
    }
   ],
   "source": [
    "count= a.count('p')\n",
    "print(\"The count of 'P' is: \",count)"
   ]
  },
  {
   "cell_type": "code",
   "execution_count": 22,
   "id": "fd407b3c",
   "metadata": {},
   "outputs": [],
   "source": [
    "b= 'cuttack town is coming under cuttack district'"
   ]
  },
  {
   "cell_type": "code",
   "execution_count": 24,
   "id": "6dc150ef",
   "metadata": {},
   "outputs": [
    {
     "name": "stdout",
     "output_type": "stream",
     "text": [
      "Here the number of cuttack is:  2\n"
     ]
    }
   ],
   "source": [
    "count_1= b.count('cuttack')\n",
    "print(\"Here the number of cuttack is: \", count_1)"
   ]
  },
  {
   "cell_type": "code",
   "execution_count": 25,
   "id": "6ab50c98",
   "metadata": {},
   "outputs": [],
   "source": [
    "# Endswith()\n",
    "# The endswith() method returns True if a string ends with the specified suffix. If not, it returns False\n",
    "# str.endswith(suffix[, start[, end]])"
   ]
  },
  {
   "cell_type": "code",
   "execution_count": 26,
   "id": "30e5a94d",
   "metadata": {},
   "outputs": [],
   "source": [
    "message= 'python is fun'"
   ]
  },
  {
   "cell_type": "code",
   "execution_count": 28,
   "id": "2e2d2a21",
   "metadata": {},
   "outputs": [
    {
     "data": {
      "text/plain": [
       "True"
      ]
     },
     "execution_count": 28,
     "metadata": {},
     "output_type": "execute_result"
    }
   ],
   "source": [
    "message.endswith('fun')"
   ]
  },
  {
   "cell_type": "code",
   "execution_count": 30,
   "id": "43956d30",
   "metadata": {},
   "outputs": [],
   "source": [
    "message_1= 'I am from odisha'"
   ]
  },
  {
   "cell_type": "code",
   "execution_count": 32,
   "id": "678a5c59",
   "metadata": {},
   "outputs": [
    {
     "data": {
      "text/plain": [
       "True"
      ]
     },
     "execution_count": 32,
     "metadata": {},
     "output_type": "execute_result"
    }
   ],
   "source": [
    "message_1.endswith('sha')"
   ]
  },
  {
   "cell_type": "code",
   "execution_count": 33,
   "id": "4e58c252",
   "metadata": {},
   "outputs": [],
   "source": [
    "# expandtabs()\n",
    "# The expandtabs() takes an integer tabsize argument. The default tabsize is 8.\n",
    "# The expandtabs() returns a string where all '\\t' characters are replaced with whitespace characters until the next multiple of tabsize parameter.\n",
    "# string.expandtabs(tabsize)"
   ]
  },
  {
   "cell_type": "code",
   "execution_count": 36,
   "id": "dbeca31c",
   "metadata": {},
   "outputs": [],
   "source": [
    "string= 'abc\\t123\\txyz'"
   ]
  },
  {
   "cell_type": "code",
   "execution_count": 37,
   "id": "0c64e44a",
   "metadata": {},
   "outputs": [
    {
     "data": {
      "text/plain": [
       "'abc     123     xyz'"
      ]
     },
     "execution_count": 37,
     "metadata": {},
     "output_type": "execute_result"
    }
   ],
   "source": [
    "result= string.expandtabs()\n",
    "result"
   ]
  },
  {
   "cell_type": "code",
   "execution_count": 38,
   "id": "55ed3343",
   "metadata": {},
   "outputs": [],
   "source": [
    "string_1= 'wish\\tyou\\ta\\tvery\\thappy\\tbirthday'"
   ]
  },
  {
   "cell_type": "code",
   "execution_count": 39,
   "id": "eb3ef3ca",
   "metadata": {},
   "outputs": [
    {
     "data": {
      "text/plain": [
       "'wish    you     a       very    happy   birthday'"
      ]
     },
     "execution_count": 39,
     "metadata": {},
     "output_type": "execute_result"
    }
   ],
   "source": [
    "result_1=string_1.expandtabs()\n",
    "result_1"
   ]
  },
  {
   "cell_type": "code",
   "execution_count": 40,
   "id": "b1bf4798",
   "metadata": {},
   "outputs": [],
   "source": [
    "# encode()\n",
    "# The encode() method returns an encoded version of the given string.\n",
    "# string.encode(encoding='UTF-8',errors='strict')"
   ]
  },
  {
   "cell_type": "code",
   "execution_count": 43,
   "id": "87215aef",
   "metadata": {},
   "outputs": [],
   "source": [
    "sen = 'Lōndōn diāries'"
   ]
  },
  {
   "cell_type": "code",
   "execution_count": 44,
   "id": "516cc067",
   "metadata": {},
   "outputs": [],
   "source": [
    "sen_utf= sen.encode()"
   ]
  },
  {
   "cell_type": "code",
   "execution_count": 45,
   "id": "a252206e",
   "metadata": {},
   "outputs": [
    {
     "name": "stdout",
     "output_type": "stream",
     "text": [
      "The encoded version is:  b'L\\xc5\\x8dnd\\xc5\\x8dn di\\xc4\\x81ries'\n"
     ]
    }
   ],
   "source": [
    "print(\"The encoded version is: \",sen_utf)"
   ]
  },
  {
   "cell_type": "code",
   "execution_count": 51,
   "id": "9f590185",
   "metadata": {},
   "outputs": [],
   "source": [
    "sen_1= 'pythōn'"
   ]
  },
  {
   "cell_type": "code",
   "execution_count": 53,
   "id": "7c39de64",
   "metadata": {},
   "outputs": [],
   "source": [
    "sen_1_utf= sen_1.encode()"
   ]
  },
  {
   "cell_type": "code",
   "execution_count": 54,
   "id": "335dd4fd",
   "metadata": {},
   "outputs": [
    {
     "name": "stdout",
     "output_type": "stream",
     "text": [
      "The encoded version is:  b'pyth\\xc5\\x8dn'\n"
     ]
    }
   ],
   "source": [
    "print(\"The encoded version is: \",sen_1_utf)"
   ]
  },
  {
   "cell_type": "code",
   "execution_count": 55,
   "id": "6c48a18d",
   "metadata": {},
   "outputs": [],
   "source": [
    "# Find()\n",
    "# The find() method returns the index of first occurrence of the substring (if found). If not found, it returns -1"
   ]
  },
  {
   "cell_type": "code",
   "execution_count": 56,
   "id": "9e092799",
   "metadata": {},
   "outputs": [],
   "source": [
    "quote= 'let bygone be bygone'"
   ]
  },
  {
   "cell_type": "code",
   "execution_count": 60,
   "id": "4aab90e8",
   "metadata": {},
   "outputs": [
    {
     "data": {
      "text/plain": [
       "11"
      ]
     },
     "execution_count": 60,
     "metadata": {},
     "output_type": "execute_result"
    }
   ],
   "source": [
    "result_1= quote.find('be')\n",
    "result_1"
   ]
  },
  {
   "cell_type": "code",
   "execution_count": 61,
   "id": "21eabd6a",
   "metadata": {},
   "outputs": [
    {
     "data": {
      "text/plain": [
       "-1"
      ]
     },
     "execution_count": 61,
     "metadata": {},
     "output_type": "execute_result"
    }
   ],
   "source": [
    "result_2=quote.find('sheep')\n",
    "result_2"
   ]
  },
  {
   "cell_type": "code",
   "execution_count": 62,
   "id": "19600e25",
   "metadata": {},
   "outputs": [],
   "source": [
    "quote_1='little things matters a lot'"
   ]
  },
  {
   "cell_type": "code",
   "execution_count": 63,
   "id": "8692f4fd",
   "metadata": {},
   "outputs": [
    {
     "data": {
      "text/plain": [
       "15"
      ]
     },
     "execution_count": 63,
     "metadata": {},
     "output_type": "execute_result"
    }
   ],
   "source": [
    "result_3= quote_1.find('a')\n",
    "result_3"
   ]
  },
  {
   "cell_type": "code",
   "execution_count": 64,
   "id": "d51d4d9a",
   "metadata": {},
   "outputs": [],
   "source": [
    "# format()\n",
    "# The format() method returns the formatted string."
   ]
  },
  {
   "cell_type": "code",
   "execution_count": 65,
   "id": "fa04a52f",
   "metadata": {},
   "outputs": [
    {
     "name": "stdout",
     "output_type": "stream",
     "text": [
      "Hello Prashant,your current balance is 30000\n"
     ]
    }
   ],
   "source": [
    "# Default arguements\n",
    "print(\"Hello {},your current balance is {}\".format('Prashant',30000))"
   ]
  },
  {
   "cell_type": "code",
   "execution_count": 66,
   "id": "ae749c58",
   "metadata": {},
   "outputs": [
    {
     "name": "stdout",
     "output_type": "stream",
     "text": [
      "Hey, Subhendu ,can I call you Subh\n"
     ]
    }
   ],
   "source": [
    "print(\"Hey, {} ,can I call you {}\".format('Subhendu','Subh'))"
   ]
  },
  {
   "cell_type": "code",
   "execution_count": 68,
   "id": "fa597ce2",
   "metadata": {},
   "outputs": [
    {
     "name": "stdout",
     "output_type": "stream",
     "text": [
      "Hello Abinash, your current balance is 20000\n"
     ]
    }
   ],
   "source": [
    "# Positional arguements\n",
    "print(\"Hello {0}, your current balance is {1}\".format('Abinash',20000))"
   ]
  },
  {
   "cell_type": "code",
   "execution_count": 69,
   "id": "290d34de",
   "metadata": {},
   "outputs": [
    {
     "name": "stdout",
     "output_type": "stream",
     "text": [
      "Hello, Abinash , Can I name you Abhi\n"
     ]
    }
   ],
   "source": [
    "print(\"Hello, {0} , Can I name you {1}\".format('Abinash','Abhi'))"
   ]
  },
  {
   "cell_type": "code",
   "execution_count": 71,
   "id": "a2f1f052",
   "metadata": {},
   "outputs": [
    {
     "name": "stdout",
     "output_type": "stream",
     "text": [
      "Hello Samir, your current balance is: 6000\n"
     ]
    }
   ],
   "source": [
    "# Keyword arguements\n",
    "print(\"Hello {name}, your current balance is: {blc}\".format(name='Samir',blc= 6000))"
   ]
  },
  {
   "cell_type": "code",
   "execution_count": 72,
   "id": "e5b2318b",
   "metadata": {},
   "outputs": [
    {
     "name": "stdout",
     "output_type": "stream",
     "text": [
      "Hey Jyothi,your current balance is 12000\n"
     ]
    }
   ],
   "source": [
    "print(\"Hey {name},your current balance is {blc}\".format(name='Jyothi',blc=12000))"
   ]
  },
  {
   "cell_type": "code",
   "execution_count": 73,
   "id": "0038c383",
   "metadata": {},
   "outputs": [],
   "source": [
    "# Index()\n",
    "# The index() method returns the index of a substring inside the string (if found). If the substring is not found, it raises an exception."
   ]
  },
  {
   "cell_type": "code",
   "execution_count": 74,
   "id": "aae55c1d",
   "metadata": {},
   "outputs": [],
   "source": [
    "text= 'Python is blooming'"
   ]
  },
  {
   "cell_type": "code",
   "execution_count": 79,
   "id": "dadd114b",
   "metadata": {},
   "outputs": [
    {
     "data": {
      "text/plain": [
       "7"
      ]
     },
     "execution_count": 79,
     "metadata": {},
     "output_type": "execute_result"
    }
   ],
   "source": [
    "res = text.index('is')\n",
    "res"
   ]
  },
  {
   "cell_type": "code",
   "execution_count": 85,
   "id": "7de8f3eb",
   "metadata": {},
   "outputs": [
    {
     "name": "stdout",
     "output_type": "stream",
     "text": [
      "7\n"
     ]
    }
   ],
   "source": [
    "print(text.index('is',7,9))"
   ]
  },
  {
   "cell_type": "code",
   "execution_count": 86,
   "id": "c08be76b",
   "metadata": {},
   "outputs": [
    {
     "name": "stdout",
     "output_type": "stream",
     "text": [
      "12\n"
     ]
    }
   ],
   "source": [
    "print(text.index('oo'))"
   ]
  },
  {
   "cell_type": "code",
   "execution_count": 87,
   "id": "308815b9",
   "metadata": {},
   "outputs": [
    {
     "name": "stdout",
     "output_type": "stream",
     "text": [
      "15\n"
     ]
    }
   ],
   "source": [
    "print(text.index('ing'))"
   ]
  },
  {
   "cell_type": "code",
   "execution_count": 88,
   "id": "1e659851",
   "metadata": {},
   "outputs": [],
   "source": [
    "# Isalnum()\n",
    "# The isalnum() method returns True if all characters in the string are alphanumeric (either alphabets or numbers). If not, it returns False.\n",
    "# string.isalnum()"
   ]
  },
  {
   "cell_type": "code",
   "execution_count": 89,
   "id": "2d3a98e1",
   "metadata": {},
   "outputs": [],
   "source": [
    "name1='alpha123'"
   ]
  },
  {
   "cell_type": "code",
   "execution_count": 90,
   "id": "7a606be1",
   "metadata": {},
   "outputs": [
    {
     "data": {
      "text/plain": [
       "True"
      ]
     },
     "execution_count": 90,
     "metadata": {},
     "output_type": "execute_result"
    }
   ],
   "source": [
    "name1.isalnum()"
   ]
  },
  {
   "cell_type": "code",
   "execution_count": 91,
   "id": "020c1f21",
   "metadata": {},
   "outputs": [],
   "source": [
    "name2='text 456'"
   ]
  },
  {
   "cell_type": "code",
   "execution_count": 92,
   "id": "97ba380e",
   "metadata": {},
   "outputs": [
    {
     "data": {
      "text/plain": [
       "False"
      ]
     },
     "execution_count": 92,
     "metadata": {},
     "output_type": "execute_result"
    }
   ],
   "source": [
    "name2.isalnum()"
   ]
  },
  {
   "cell_type": "code",
   "execution_count": 93,
   "id": "e13668f6",
   "metadata": {},
   "outputs": [],
   "source": [
    "# Isalpha()"
   ]
  },
  {
   "cell_type": "code",
   "execution_count": 97,
   "id": "69fb707a",
   "metadata": {},
   "outputs": [],
   "source": [
    "name3='Subhamastubhavah'"
   ]
  },
  {
   "cell_type": "code",
   "execution_count": 98,
   "id": "bde3f2b2",
   "metadata": {},
   "outputs": [
    {
     "data": {
      "text/plain": [
       "True"
      ]
     },
     "execution_count": 98,
     "metadata": {},
     "output_type": "execute_result"
    }
   ],
   "source": [
    "name3.isalpha()"
   ]
  },
  {
   "cell_type": "code",
   "execution_count": 99,
   "id": "f7dbe0e8",
   "metadata": {},
   "outputs": [],
   "source": [
    "name4='ayushman bhavah'"
   ]
  },
  {
   "cell_type": "code",
   "execution_count": 100,
   "id": "45141f2e",
   "metadata": {},
   "outputs": [
    {
     "data": {
      "text/plain": [
       "False"
      ]
     },
     "execution_count": 100,
     "metadata": {},
     "output_type": "execute_result"
    }
   ],
   "source": [
    "name4.isalpha()"
   ]
  },
  {
   "cell_type": "code",
   "execution_count": 101,
   "id": "9486b5cf",
   "metadata": {},
   "outputs": [],
   "source": [
    "name5= 'ayushman123'"
   ]
  },
  {
   "cell_type": "code",
   "execution_count": 102,
   "id": "d657bb10",
   "metadata": {},
   "outputs": [
    {
     "data": {
      "text/plain": [
       "False"
      ]
     },
     "execution_count": 102,
     "metadata": {},
     "output_type": "execute_result"
    }
   ],
   "source": [
    "name5.isalpha()"
   ]
  },
  {
   "cell_type": "code",
   "execution_count": 103,
   "id": "9f80fe2e",
   "metadata": {},
   "outputs": [],
   "source": [
    "# isdecimal()\n",
    "# The isdecimal() returns:\n",
    "# True if all characters in the string are decimal characters.\n",
    "# False if at least one character is not decimal character.\n"
   ]
  },
  {
   "cell_type": "code",
   "execution_count": 108,
   "id": "e502abc2",
   "metadata": {},
   "outputs": [],
   "source": [
    "Q= '123456'"
   ]
  },
  {
   "cell_type": "code",
   "execution_count": 109,
   "id": "16a5649b",
   "metadata": {},
   "outputs": [
    {
     "data": {
      "text/plain": [
       "True"
      ]
     },
     "execution_count": 109,
     "metadata": {},
     "output_type": "execute_result"
    }
   ],
   "source": [
    "Q.isdecimal()"
   ]
  },
  {
   "cell_type": "code",
   "execution_count": 110,
   "id": "16e7a50b",
   "metadata": {},
   "outputs": [],
   "source": [
    "P='subh1994'"
   ]
  },
  {
   "cell_type": "code",
   "execution_count": 111,
   "id": "5fceac88",
   "metadata": {},
   "outputs": [
    {
     "data": {
      "text/plain": [
       "False"
      ]
     },
     "execution_count": 111,
     "metadata": {},
     "output_type": "execute_result"
    }
   ],
   "source": [
    "P.isdecimal()"
   ]
  },
  {
   "cell_type": "code",
   "execution_count": 112,
   "id": "65478ef7",
   "metadata": {},
   "outputs": [],
   "source": [
    "R='asdf bh5689 0000'"
   ]
  },
  {
   "cell_type": "code",
   "execution_count": 113,
   "id": "4fd9cdd4",
   "metadata": {},
   "outputs": [
    {
     "data": {
      "text/plain": [
       "False"
      ]
     },
     "execution_count": 113,
     "metadata": {},
     "output_type": "execute_result"
    }
   ],
   "source": [
    "R.isdecimal()"
   ]
  },
  {
   "cell_type": "code",
   "execution_count": 114,
   "id": "fa011d27",
   "metadata": {},
   "outputs": [],
   "source": [
    "# isdigit()\n",
    "# The isdigit() method returns True if all characters in a string are digits. If not, it returns False."
   ]
  },
  {
   "cell_type": "code",
   "execution_count": 116,
   "id": "b44a02b0",
   "metadata": {},
   "outputs": [],
   "source": [
    "strng= '7891011121314'"
   ]
  },
  {
   "cell_type": "code",
   "execution_count": 117,
   "id": "424d8767",
   "metadata": {},
   "outputs": [
    {
     "data": {
      "text/plain": [
       "True"
      ]
     },
     "execution_count": 117,
     "metadata": {},
     "output_type": "execute_result"
    }
   ],
   "source": [
    "strng.isdigit()"
   ]
  },
  {
   "cell_type": "code",
   "execution_count": 118,
   "id": "2045abed",
   "metadata": {},
   "outputs": [],
   "source": [
    "strng1='Subhendu147'"
   ]
  },
  {
   "cell_type": "code",
   "execution_count": 120,
   "id": "61a78a59",
   "metadata": {},
   "outputs": [
    {
     "data": {
      "text/plain": [
       "False"
      ]
     },
     "execution_count": 120,
     "metadata": {},
     "output_type": "execute_result"
    }
   ],
   "source": [
    "strng1.isdigit()"
   ]
  },
  {
   "cell_type": "code",
   "execution_count": 121,
   "id": "88811ced",
   "metadata": {},
   "outputs": [],
   "source": [
    "# isidentifier()\n",
    "# The isidentifier() method returns:\n",
    "# True if the string is a valid identifier\n",
    "# False if the string is not a invalid identifier"
   ]
  },
  {
   "cell_type": "code",
   "execution_count": 123,
   "id": "3e66a7e9",
   "metadata": {},
   "outputs": [],
   "source": [
    "name= 'Python3'"
   ]
  },
  {
   "cell_type": "code",
   "execution_count": 124,
   "id": "349357ff",
   "metadata": {},
   "outputs": [
    {
     "data": {
      "text/plain": [
       "True"
      ]
     },
     "execution_count": 124,
     "metadata": {},
     "output_type": "execute_result"
    }
   ],
   "source": [
    "name.isidentifier()"
   ]
  },
  {
   "cell_type": "code",
   "execution_count": 125,
   "id": "246341d3",
   "metadata": {},
   "outputs": [],
   "source": [
    "name1='python3456'"
   ]
  },
  {
   "cell_type": "code",
   "execution_count": 126,
   "id": "d5d4d83e",
   "metadata": {},
   "outputs": [
    {
     "data": {
      "text/plain": [
       "True"
      ]
     },
     "execution_count": 126,
     "metadata": {},
     "output_type": "execute_result"
    }
   ],
   "source": [
    "name1.isidentifier()"
   ]
  },
  {
   "cell_type": "code",
   "execution_count": 131,
   "id": "d23bf8ae",
   "metadata": {},
   "outputs": [],
   "source": [
    "name2='22python'"
   ]
  },
  {
   "cell_type": "code",
   "execution_count": 132,
   "id": "3742879d",
   "metadata": {},
   "outputs": [
    {
     "data": {
      "text/plain": [
       "False"
      ]
     },
     "execution_count": 132,
     "metadata": {},
     "output_type": "execute_result"
    }
   ],
   "source": [
    "name2.isidentifier()"
   ]
  },
  {
   "cell_type": "code",
   "execution_count": 133,
   "id": "a679f5f4",
   "metadata": {},
   "outputs": [],
   "source": [
    "name3='Py thon 3'"
   ]
  },
  {
   "cell_type": "code",
   "execution_count": 134,
   "id": "0c95ab99",
   "metadata": {},
   "outputs": [
    {
     "data": {
      "text/plain": [
       "False"
      ]
     },
     "execution_count": 134,
     "metadata": {},
     "output_type": "execute_result"
    }
   ],
   "source": [
    "name3.isidentifier()"
   ]
  },
  {
   "cell_type": "code",
   "execution_count": 135,
   "id": "f21d30e1",
   "metadata": {},
   "outputs": [],
   "source": [
    "# islower()\n",
    "# The islower() method returns:\n",
    "# True if all alphabets that exist in the string are lowercase alphabets.\n",
    "# False if the string contains at least one uppercase alphabet."
   ]
  },
  {
   "cell_type": "code",
   "execution_count": 136,
   "id": "a14eb11e",
   "metadata": {},
   "outputs": [],
   "source": [
    "dom= 'subhendu'"
   ]
  },
  {
   "cell_type": "code",
   "execution_count": 137,
   "id": "b8b50eeb",
   "metadata": {},
   "outputs": [
    {
     "data": {
      "text/plain": [
       "True"
      ]
     },
     "execution_count": 137,
     "metadata": {},
     "output_type": "execute_result"
    }
   ],
   "source": [
    "dom.islower()"
   ]
  },
  {
   "cell_type": "code",
   "execution_count": 138,
   "id": "62632ebe",
   "metadata": {},
   "outputs": [],
   "source": [
    "dom1='Subhendu'"
   ]
  },
  {
   "cell_type": "code",
   "execution_count": 139,
   "id": "1244d04b",
   "metadata": {},
   "outputs": [
    {
     "data": {
      "text/plain": [
       "False"
      ]
     },
     "execution_count": 139,
     "metadata": {},
     "output_type": "execute_result"
    }
   ],
   "source": [
    "dom1.islower()"
   ]
  },
  {
   "cell_type": "code",
   "execution_count": 140,
   "id": "cdcdb157",
   "metadata": {},
   "outputs": [],
   "source": [
    "# isnumeric()\n",
    "# The isnumeric() method checks if all the characters in the string are numeric."
   ]
  },
  {
   "cell_type": "code",
   "execution_count": 143,
   "id": "979ee013",
   "metadata": {},
   "outputs": [],
   "source": [
    "dom2= '12000'"
   ]
  },
  {
   "cell_type": "code",
   "execution_count": 144,
   "id": "cee9b8b9",
   "metadata": {},
   "outputs": [
    {
     "data": {
      "text/plain": [
       "True"
      ]
     },
     "execution_count": 144,
     "metadata": {},
     "output_type": "execute_result"
    }
   ],
   "source": [
    "dom2.isnumeric()"
   ]
  },
  {
   "cell_type": "code",
   "execution_count": 145,
   "id": "dbb93b03",
   "metadata": {},
   "outputs": [],
   "source": [
    "dom3= 'A56890'"
   ]
  },
  {
   "cell_type": "code",
   "execution_count": 146,
   "id": "8d566952",
   "metadata": {},
   "outputs": [
    {
     "data": {
      "text/plain": [
       "False"
      ]
     },
     "execution_count": 146,
     "metadata": {},
     "output_type": "execute_result"
    }
   ],
   "source": [
    "dom3.isnumeric()"
   ]
  },
  {
   "cell_type": "code",
   "execution_count": 148,
   "id": "04ed3ea1",
   "metadata": {},
   "outputs": [],
   "source": [
    "# isprintable()\n",
    "# The isprintable() method returns True if all characters in the string are printable. If not, it returns False."
   ]
  },
  {
   "cell_type": "code",
   "execution_count": 150,
   "id": "e681c188",
   "metadata": {},
   "outputs": [],
   "source": [
    "sen4 = ' It is so easy to install'"
   ]
  },
  {
   "cell_type": "code",
   "execution_count": 151,
   "id": "2c5c5ca0",
   "metadata": {},
   "outputs": [
    {
     "data": {
      "text/plain": [
       "True"
      ]
     },
     "execution_count": 151,
     "metadata": {},
     "output_type": "execute_result"
    }
   ],
   "source": [
    "sen4.isprintable()"
   ]
  },
  {
   "cell_type": "code",
   "execution_count": 152,
   "id": "c54cd98f",
   "metadata": {},
   "outputs": [],
   "source": [
    "sen5= '                   '"
   ]
  },
  {
   "cell_type": "code",
   "execution_count": 153,
   "id": "33443816",
   "metadata": {},
   "outputs": [
    {
     "data": {
      "text/plain": [
       "True"
      ]
     },
     "execution_count": 153,
     "metadata": {},
     "output_type": "execute_result"
    }
   ],
   "source": [
    "sen5.isprintable()"
   ]
  },
  {
   "cell_type": "code",
   "execution_count": 156,
   "id": "7651a7a7",
   "metadata": {},
   "outputs": [],
   "source": [
    "sen6= 'alpha_numeric\\n/:'"
   ]
  },
  {
   "cell_type": "code",
   "execution_count": 157,
   "id": "421d126f",
   "metadata": {},
   "outputs": [
    {
     "data": {
      "text/plain": [
       "False"
      ]
     },
     "execution_count": 157,
     "metadata": {},
     "output_type": "execute_result"
    }
   ],
   "source": [
    "sen6.isprintable()"
   ]
  },
  {
   "cell_type": "code",
   "execution_count": 158,
   "id": "2a11a4c3",
   "metadata": {},
   "outputs": [],
   "source": [
    "# isspace()\n",
    "# isspace() method returns:\n",
    "# True if all characters in the string are whitespace characters\n",
    "# False if the string is empty or contains at least one non-printable character\n"
   ]
  },
  {
   "cell_type": "code",
   "execution_count": 159,
   "id": "f4f53f3c",
   "metadata": {},
   "outputs": [],
   "source": [
    "k= '   klmnop'"
   ]
  },
  {
   "cell_type": "code",
   "execution_count": 160,
   "id": "1dff9e1c",
   "metadata": {},
   "outputs": [
    {
     "data": {
      "text/plain": [
       "False"
      ]
     },
     "execution_count": 160,
     "metadata": {},
     "output_type": "execute_result"
    }
   ],
   "source": [
    "k.isspace()"
   ]
  },
  {
   "cell_type": "code",
   "execution_count": 161,
   "id": "5e8d9f56",
   "metadata": {},
   "outputs": [],
   "source": [
    "l= '      '"
   ]
  },
  {
   "cell_type": "code",
   "execution_count": 162,
   "id": "ea3aa0b3",
   "metadata": {},
   "outputs": [
    {
     "data": {
      "text/plain": [
       "True"
      ]
     },
     "execution_count": 162,
     "metadata": {},
     "output_type": "execute_result"
    }
   ],
   "source": [
    "l.isspace()"
   ]
  },
  {
   "cell_type": "code",
   "execution_count": 163,
   "id": "55e1b070",
   "metadata": {},
   "outputs": [],
   "source": [
    "# istitle()\n",
    "# The istitle() method returns:\n",
    "# True if the string is a titlecased string\n",
    "# False if the string is not a titlecased string or an empty string"
   ]
  },
  {
   "cell_type": "code",
   "execution_count": 165,
   "id": "de90c201",
   "metadata": {},
   "outputs": [],
   "source": [
    "s='How Do You Feel?'"
   ]
  },
  {
   "cell_type": "code",
   "execution_count": 166,
   "id": "1b416b22",
   "metadata": {},
   "outputs": [
    {
     "data": {
      "text/plain": [
       "True"
      ]
     },
     "execution_count": 166,
     "metadata": {},
     "output_type": "execute_result"
    }
   ],
   "source": [
    "s.istitle()"
   ]
  },
  {
   "cell_type": "code",
   "execution_count": 168,
   "id": "1944e5bb",
   "metadata": {},
   "outputs": [],
   "source": [
    "d='how are you?'"
   ]
  },
  {
   "cell_type": "code",
   "execution_count": 169,
   "id": "a2ea4b7b",
   "metadata": {},
   "outputs": [
    {
     "data": {
      "text/plain": [
       "False"
      ]
     },
     "execution_count": 169,
     "metadata": {},
     "output_type": "execute_result"
    }
   ],
   "source": [
    "d.istitle()"
   ]
  },
  {
   "cell_type": "code",
   "execution_count": 171,
   "id": "b1778cc3",
   "metadata": {},
   "outputs": [],
   "source": [
    "# isupper()\n",
    "# The isupper() method returns:\n",
    "# True if all characters in a string are uppercase characters\n",
    "# False if any characters in a string are lowercase characters"
   ]
  },
  {
   "cell_type": "code",
   "execution_count": 172,
   "id": "048fe0c0",
   "metadata": {},
   "outputs": [],
   "source": [
    "f='WHEN SHOULD WE GO?'"
   ]
  },
  {
   "cell_type": "code",
   "execution_count": 173,
   "id": "28202cd0",
   "metadata": {},
   "outputs": [
    {
     "data": {
      "text/plain": [
       "True"
      ]
     },
     "execution_count": 173,
     "metadata": {},
     "output_type": "execute_result"
    }
   ],
   "source": [
    "f.isupper()"
   ]
  },
  {
   "cell_type": "code",
   "execution_count": 174,
   "id": "78f275b2",
   "metadata": {},
   "outputs": [],
   "source": [
    "f1=\"IT'S NOT Fare\""
   ]
  },
  {
   "cell_type": "code",
   "execution_count": 175,
   "id": "1ed46f88",
   "metadata": {},
   "outputs": [
    {
     "data": {
      "text/plain": [
       "False"
      ]
     },
     "execution_count": 175,
     "metadata": {},
     "output_type": "execute_result"
    }
   ],
   "source": [
    "f1.isupper()"
   ]
  },
  {
   "cell_type": "code",
   "execution_count": 1,
   "id": "0f8ab5aa",
   "metadata": {},
   "outputs": [],
   "source": [
    "# join()\n",
    "# The string join() method returns a string by joining all the elements of an iterable (list, string, tuple), separated by the given separator."
   ]
  },
  {
   "cell_type": "code",
   "execution_count": 3,
   "id": "d8aef6a7",
   "metadata": {},
   "outputs": [],
   "source": [
    "str= ['Python','is','fun']"
   ]
  },
  {
   "cell_type": "code",
   "execution_count": 11,
   "id": "c4648ade",
   "metadata": {},
   "outputs": [
    {
     "name": "stdout",
     "output_type": "stream",
     "text": [
      "Python is fun\n"
     ]
    }
   ],
   "source": [
    "print(' '.join(str))"
   ]
  },
  {
   "cell_type": "code",
   "execution_count": 12,
   "id": "ad120e02",
   "metadata": {},
   "outputs": [],
   "source": [
    "str1= ['you','should','leave','now']"
   ]
  },
  {
   "cell_type": "code",
   "execution_count": 15,
   "id": "6c631baa",
   "metadata": {},
   "outputs": [
    {
     "name": "stdout",
     "output_type": "stream",
     "text": [
      "you    should    leave    now\n"
     ]
    }
   ],
   "source": [
    "print('    '.join(str1))"
   ]
  },
  {
   "cell_type": "code",
   "execution_count": 16,
   "id": "5058f34e",
   "metadata": {},
   "outputs": [],
   "source": [
    "# ljust()\n",
    "# ljust() method takes two parameters:\n",
    "\n",
    "# width - width of the given string. If width is less than or equal to the length of the string, the original string is returned.\n",
    "# fillchar (Optional) - character to fill the remaining space of the width\n",
    "\n",
    "# The ljust() method returns the left-justified string within the given minimum width.\n",
    "# If fillchar is defined, it also fills the remaining space with the defined character."
   ]
  },
  {
   "cell_type": "code",
   "execution_count": 18,
   "id": "97a9067d",
   "metadata": {},
   "outputs": [],
   "source": [
    "string= 'Anaconda'"
   ]
  },
  {
   "cell_type": "code",
   "execution_count": 19,
   "id": "c0a727d2",
   "metadata": {},
   "outputs": [
    {
     "name": "stdout",
     "output_type": "stream",
     "text": [
      "Anaconda*******\n"
     ]
    }
   ],
   "source": [
    "print(string.ljust(15,'*'))"
   ]
  },
  {
   "cell_type": "code",
   "execution_count": 20,
   "id": "af4417d0",
   "metadata": {},
   "outputs": [],
   "source": [
    "string1= 'School'"
   ]
  },
  {
   "cell_type": "code",
   "execution_count": 21,
   "id": "4ccad5fc",
   "metadata": {},
   "outputs": [
    {
     "name": "stdout",
     "output_type": "stream",
     "text": [
      "School      \n"
     ]
    }
   ],
   "source": [
    "print(string1.ljust(12))"
   ]
  },
  {
   "cell_type": "code",
   "execution_count": 22,
   "id": "98f9410c",
   "metadata": {},
   "outputs": [
    {
     "name": "stdout",
     "output_type": "stream",
     "text": [
      "    Anaconda\n"
     ]
    }
   ],
   "source": [
    "print(string.rjust(12))"
   ]
  },
  {
   "cell_type": "code",
   "execution_count": 23,
   "id": "00ba3fa3",
   "metadata": {},
   "outputs": [
    {
     "name": "stdout",
     "output_type": "stream",
     "text": [
      "         School\n"
     ]
    }
   ],
   "source": [
    "print(string1.rjust(15))"
   ]
  },
  {
   "cell_type": "code",
   "execution_count": 24,
   "id": "2b5b3eae",
   "metadata": {},
   "outputs": [],
   "source": [
    "# rjust()\n",
    "# The rjust() method right aligns the string up to a given width using a specified character."
   ]
  },
  {
   "cell_type": "code",
   "execution_count": 25,
   "id": "dce424b0",
   "metadata": {},
   "outputs": [],
   "source": [
    "string2= 'jupyter'"
   ]
  },
  {
   "cell_type": "code",
   "execution_count": 26,
   "id": "a35b6d44",
   "metadata": {},
   "outputs": [
    {
     "name": "stdout",
     "output_type": "stream",
     "text": [
      ".........jupyter\n"
     ]
    }
   ],
   "source": [
    "print(string2.rjust(16,'.'))"
   ]
  },
  {
   "cell_type": "code",
   "execution_count": 27,
   "id": "e4a17e20",
   "metadata": {},
   "outputs": [
    {
     "name": "stdout",
     "output_type": "stream",
     "text": [
      "         jupyter\n"
     ]
    }
   ],
   "source": [
    "print(string2.rjust(16))"
   ]
  },
  {
   "cell_type": "code",
   "execution_count": 28,
   "id": "1ebc5ccf",
   "metadata": {},
   "outputs": [
    {
     "name": "stdout",
     "output_type": "stream",
     "text": [
      "@@@@@@@@@jupyter\n"
     ]
    }
   ],
   "source": [
    "print(string2.rjust(16,'@'))"
   ]
  },
  {
   "cell_type": "code",
   "execution_count": 29,
   "id": "a7e8094b",
   "metadata": {},
   "outputs": [],
   "source": [
    "# lower()\n",
    "# The lower() method converts all uppercase characters in a string into lowercase characters and returns it."
   ]
  },
  {
   "cell_type": "code",
   "execution_count": 30,
   "id": "ea09142a",
   "metadata": {},
   "outputs": [],
   "source": [
    "sen= 'PYTHON AND POWERBI ARE BLOOMING RIGHT NOW'"
   ]
  },
  {
   "cell_type": "code",
   "execution_count": 31,
   "id": "c2a70596",
   "metadata": {},
   "outputs": [
    {
     "name": "stdout",
     "output_type": "stream",
     "text": [
      "python and powerbi are blooming right now\n"
     ]
    }
   ],
   "source": [
    "print(sen.lower())"
   ]
  },
  {
   "cell_type": "code",
   "execution_count": 32,
   "id": "d1020104",
   "metadata": {},
   "outputs": [],
   "source": [
    "sen1='WHAT IS YOUR NAME'"
   ]
  },
  {
   "cell_type": "code",
   "execution_count": 33,
   "id": "ef9565ae",
   "metadata": {},
   "outputs": [
    {
     "name": "stdout",
     "output_type": "stream",
     "text": [
      "what is your name\n"
     ]
    }
   ],
   "source": [
    "print(sen1.lower())"
   ]
  },
  {
   "cell_type": "code",
   "execution_count": 34,
   "id": "7276a72e",
   "metadata": {},
   "outputs": [],
   "source": [
    "# upper()\n",
    "# The upper() method converts all lowercase characters in a string into uppercase characters and returns it."
   ]
  },
  {
   "cell_type": "code",
   "execution_count": 37,
   "id": "caa0f8ad",
   "metadata": {},
   "outputs": [],
   "source": [
    "sen2= 'lets play badminton!'"
   ]
  },
  {
   "cell_type": "code",
   "execution_count": 38,
   "id": "e40c9bb7",
   "metadata": {},
   "outputs": [
    {
     "name": "stdout",
     "output_type": "stream",
     "text": [
      "LETS PLAY BADMINTON!\n"
     ]
    }
   ],
   "source": [
    "print(sen2.upper())"
   ]
  },
  {
   "cell_type": "code",
   "execution_count": 39,
   "id": "7f7be834",
   "metadata": {},
   "outputs": [],
   "source": [
    "sen_2='when you will leave for home?'"
   ]
  },
  {
   "cell_type": "code",
   "execution_count": 40,
   "id": "0bdf7554",
   "metadata": {},
   "outputs": [
    {
     "name": "stdout",
     "output_type": "stream",
     "text": [
      "WHEN YOU WILL LEAVE FOR HOME?\n"
     ]
    }
   ],
   "source": [
    "print(sen_2.upper())"
   ]
  },
  {
   "cell_type": "code",
   "execution_count": 41,
   "id": "81baa456",
   "metadata": {},
   "outputs": [],
   "source": [
    "# swapcase()\n",
    "# The swapcase() method returns the string by converting all the characters to their opposite letter case( uppercase to lowercase and vice versa)."
   ]
  },
  {
   "cell_type": "code",
   "execution_count": 42,
   "id": "27a53cd1",
   "metadata": {},
   "outputs": [],
   "source": [
    "sen3='cOmE ON, lEtS Go to LibRArY! '"
   ]
  },
  {
   "cell_type": "code",
   "execution_count": 43,
   "id": "8257b3ab",
   "metadata": {},
   "outputs": [
    {
     "name": "stdout",
     "output_type": "stream",
     "text": [
      "CoMe on, LeTs gO TO lIBraRy! \n"
     ]
    }
   ],
   "source": [
    "print(sen3.swapcase())"
   ]
  },
  {
   "cell_type": "code",
   "execution_count": 44,
   "id": "4af79d33",
   "metadata": {},
   "outputs": [],
   "source": [
    "sen_3='WhAt HAppEnED, WhY ARe yOU sO AnGRy!'"
   ]
  },
  {
   "cell_type": "code",
   "execution_count": 45,
   "id": "0f8f047b",
   "metadata": {},
   "outputs": [
    {
     "name": "stdout",
     "output_type": "stream",
     "text": [
      "wHaT haPPeNed, wHy arE You So aNgrY!\n"
     ]
    }
   ],
   "source": [
    "print(sen_3.swapcase())"
   ]
  },
  {
   "cell_type": "code",
   "execution_count": 46,
   "id": "71f482d7",
   "metadata": {},
   "outputs": [],
   "source": [
    "# lstrip()\n",
    "# The lstrip() removes characters from the left based on the argument (a string specifying the set of characters to be removed).\n",
    "# removing leading spaces"
   ]
  },
  {
   "cell_type": "code",
   "execution_count": 47,
   "id": "066c3d6e",
   "metadata": {},
   "outputs": [],
   "source": [
    "sen4='     it could be way better! ****' "
   ]
  },
  {
   "cell_type": "code",
   "execution_count": 48,
   "id": "e2642210",
   "metadata": {},
   "outputs": [
    {
     "name": "stdout",
     "output_type": "stream",
     "text": [
      "it could be way better! ****\n"
     ]
    }
   ],
   "source": [
    "print(sen4.lstrip())"
   ]
  },
  {
   "cell_type": "code",
   "execution_count": 49,
   "id": "83dba4e2",
   "metadata": {},
   "outputs": [],
   "source": [
    "sen_4='        **** It could be much better! ****'"
   ]
  },
  {
   "cell_type": "code",
   "execution_count": 50,
   "id": "f6724893",
   "metadata": {},
   "outputs": [
    {
     "name": "stdout",
     "output_type": "stream",
     "text": [
      "**** It could be much better! ****\n"
     ]
    }
   ],
   "source": [
    "print(sen_4.lstrip())"
   ]
  },
  {
   "cell_type": "code",
   "execution_count": 51,
   "id": "8705ff9f",
   "metadata": {},
   "outputs": [],
   "source": [
    "# rstrip()\n",
    "# The rstrip() method returns a copy of the string with trailing characters removed (based on the string argument passed).\n",
    "# removing trailing spaces"
   ]
  },
  {
   "cell_type": "code",
   "execution_count": 52,
   "id": "0b6ec28b",
   "metadata": {},
   "outputs": [],
   "source": [
    "sen5= 'hey,how are you!         '"
   ]
  },
  {
   "cell_type": "code",
   "execution_count": 53,
   "id": "a2ad669d",
   "metadata": {},
   "outputs": [
    {
     "name": "stdout",
     "output_type": "stream",
     "text": [
      "hey,how are you!\n"
     ]
    }
   ],
   "source": [
    "print(sen5.rstrip())"
   ]
  },
  {
   "cell_type": "code",
   "execution_count": 54,
   "id": "e96fbb52",
   "metadata": {},
   "outputs": [],
   "source": [
    "sen_5=\"hey,how have you been! ****      \""
   ]
  },
  {
   "cell_type": "code",
   "execution_count": 55,
   "id": "6391b322",
   "metadata": {},
   "outputs": [
    {
     "name": "stdout",
     "output_type": "stream",
     "text": [
      "hey,how have you been! ****\n"
     ]
    }
   ],
   "source": [
    "print(sen_5.rstrip())"
   ]
  },
  {
   "cell_type": "code",
   "execution_count": 56,
   "id": "087baae9",
   "metadata": {},
   "outputs": [],
   "source": [
    "# strip()\n",
    "# The strip() method returns a copy of the string by removing both the leading and the trailing characters (based on the string argument passed)."
   ]
  },
  {
   "cell_type": "code",
   "execution_count": 57,
   "id": "a96fc115",
   "metadata": {},
   "outputs": [],
   "source": [
    "mes= '    We have to learn first for data science       '"
   ]
  },
  {
   "cell_type": "code",
   "execution_count": 58,
   "id": "7ab9315d",
   "metadata": {},
   "outputs": [
    {
     "name": "stdout",
     "output_type": "stream",
     "text": [
      "We have to learn first for data science\n"
     ]
    }
   ],
   "source": [
    "print(mes.strip())"
   ]
  },
  {
   "cell_type": "code",
   "execution_count": 59,
   "id": "b45741b4",
   "metadata": {},
   "outputs": [],
   "source": [
    "mes1='   how irritating the kiddo is    '"
   ]
  },
  {
   "cell_type": "code",
   "execution_count": 60,
   "id": "83683d0b",
   "metadata": {},
   "outputs": [
    {
     "name": "stdout",
     "output_type": "stream",
     "text": [
      "how irritating the kiddo is\n"
     ]
    }
   ],
   "source": [
    "print(mes1.strip())"
   ]
  },
  {
   "cell_type": "code",
   "execution_count": 61,
   "id": "34c0ea1c",
   "metadata": {},
   "outputs": [],
   "source": [
    "# partition()\n",
    "# The partition() method takes a string parameter separator that separates the string at the first occurrence of it."
   ]
  },
  {
   "cell_type": "code",
   "execution_count": 63,
   "id": "99a5c99a",
   "metadata": {},
   "outputs": [],
   "source": [
    "strin= 'What should I do now'"
   ]
  },
  {
   "cell_type": "code",
   "execution_count": 65,
   "id": "8b7a41e1",
   "metadata": {},
   "outputs": [
    {
     "name": "stdout",
     "output_type": "stream",
     "text": [
      "('What ', 'should', ' I do now')\n"
     ]
    }
   ],
   "source": [
    "print(strin.partition('should'))"
   ]
  },
  {
   "cell_type": "code",
   "execution_count": 66,
   "id": "b8e7c8cd",
   "metadata": {},
   "outputs": [
    {
     "name": "stdout",
     "output_type": "stream",
     "text": [
      "('What should I ', 'do', ' now')\n"
     ]
    }
   ],
   "source": [
    "print(strin.partition('do'))"
   ]
  },
  {
   "cell_type": "code",
   "execution_count": 67,
   "id": "e7bbfb0d",
   "metadata": {},
   "outputs": [
    {
     "name": "stdout",
     "output_type": "stream",
     "text": [
      "('What should I do now', '', '')\n"
     ]
    }
   ],
   "source": [
    "print(strin.partition('what'))"
   ]
  },
  {
   "cell_type": "code",
   "execution_count": 68,
   "id": "68c605e4",
   "metadata": {},
   "outputs": [],
   "source": [
    "# maketrans()\n",
    "# The maketrans() method returns a translation table with a 1-to-1 mapping of a Unicode ordinal to its translation/replacement."
   ]
  },
  {
   "cell_type": "code",
   "execution_count": 86,
   "id": "ffc9d024",
   "metadata": {},
   "outputs": [],
   "source": [
    "dict= {\"d\":\"123\",\"e\":\"134\",\"f\":\"389\"}\n",
    "string=\"abc\""
   ]
  },
  {
   "cell_type": "code",
   "execution_count": 87,
   "id": "ee2249ba",
   "metadata": {},
   "outputs": [
    {
     "name": "stdout",
     "output_type": "stream",
     "text": [
      "{100: '123', 101: '134', 102: '389'}\n"
     ]
    }
   ],
   "source": [
    "print(string.maketrans(dict))"
   ]
  },
  {
   "cell_type": "code",
   "execution_count": 94,
   "id": "d12ec474",
   "metadata": {},
   "outputs": [],
   "source": [
    "dict1={\"k\":\"345\",\"l\":\"456\",\"m\":\"789\"}\n",
    "string1=\"abc\""
   ]
  },
  {
   "cell_type": "code",
   "execution_count": 95,
   "id": "25d51945",
   "metadata": {},
   "outputs": [
    {
     "name": "stdout",
     "output_type": "stream",
     "text": [
      "{107: '345', 108: '456', 109: '789'}\n"
     ]
    }
   ],
   "source": [
    "print(string.maketrans(dict1))"
   ]
  },
  {
   "cell_type": "code",
   "execution_count": 96,
   "id": "02c1ad1b",
   "metadata": {},
   "outputs": [],
   "source": [
    "# rpartition()\n",
    "# rpartition() method takes a string parameter separator that separates the string at the last occurrence of it"
   ]
  },
  {
   "cell_type": "code",
   "execution_count": 157,
   "id": "5d5c69aa",
   "metadata": {},
   "outputs": [],
   "source": [
    "strn= 'I am glad that you came'"
   ]
  },
  {
   "cell_type": "code",
   "execution_count": 158,
   "id": "0e1a7f0c",
   "metadata": {},
   "outputs": [
    {
     "data": {
      "text/plain": [
       "'I'"
      ]
     },
     "execution_count": 158,
     "metadata": {},
     "output_type": "execute_result"
    }
   ],
   "source": [
    "strn[0]"
   ]
  },
  {
   "cell_type": "code",
   "execution_count": 161,
   "id": "3b369f6a",
   "metadata": {},
   "outputs": [],
   "source": [
    "strn_1=(strn.rpartition('that'))"
   ]
  },
  {
   "cell_type": "code",
   "execution_count": 162,
   "id": "89e90d05",
   "metadata": {},
   "outputs": [
    {
     "data": {
      "text/plain": [
       "'I am glad '"
      ]
     },
     "execution_count": 162,
     "metadata": {},
     "output_type": "execute_result"
    }
   ],
   "source": [
    "strn_1[0]"
   ]
  },
  {
   "cell_type": "code",
   "execution_count": 100,
   "id": "258ea85f",
   "metadata": {},
   "outputs": [
    {
     "name": "stdout",
     "output_type": "stream",
     "text": [
      "('I am ', 'glad', ' that you came')\n"
     ]
    }
   ],
   "source": [
    "print(strn.rpartition('glad'))"
   ]
  },
  {
   "cell_type": "code",
   "execution_count": 101,
   "id": "2c44a043",
   "metadata": {},
   "outputs": [],
   "source": [
    "# translate()\n",
    "# translate() method takes the translation table to replace/translate characters in the given string as per the mapping table."
   ]
  },
  {
   "cell_type": "code",
   "execution_count": 108,
   "id": "c656573f",
   "metadata": {},
   "outputs": [],
   "source": [
    "zen='abc'\n",
    "zen2='xyz'\n",
    "ZEN_original='abcdef'"
   ]
  },
  {
   "cell_type": "code",
   "execution_count": 109,
   "id": "afa6efb4",
   "metadata": {},
   "outputs": [],
   "source": [
    "table=ZEN_original.maketrans(zen,zen2)"
   ]
  },
  {
   "cell_type": "code",
   "execution_count": 110,
   "id": "16c42593",
   "metadata": {},
   "outputs": [
    {
     "name": "stdout",
     "output_type": "stream",
     "text": [
      "translated zen:  xyz\n"
     ]
    }
   ],
   "source": [
    "print(\"translated zen: \",zen.translate(table))"
   ]
  },
  {
   "cell_type": "code",
   "execution_count": 111,
   "id": "55d34088",
   "metadata": {},
   "outputs": [],
   "source": [
    "# replace()\n",
    "# The replace() method replaces each matching occurrence of a substring with another string."
   ]
  },
  {
   "cell_type": "code",
   "execution_count": 112,
   "id": "0986ff4f",
   "metadata": {},
   "outputs": [],
   "source": [
    "song='ram ram jai raja ram'"
   ]
  },
  {
   "cell_type": "code",
   "execution_count": 113,
   "id": "3cde44d4",
   "metadata": {},
   "outputs": [
    {
     "name": "stdout",
     "output_type": "stream",
     "text": [
      "ram ram jai sita ram\n"
     ]
    }
   ],
   "source": [
    "print(song.replace('raja','sita'))"
   ]
  },
  {
   "cell_type": "code",
   "execution_count": 114,
   "id": "23f4e382",
   "metadata": {},
   "outputs": [],
   "source": [
    "song1='jai hanuman gyan gun sagar'"
   ]
  },
  {
   "cell_type": "code",
   "execution_count": 115,
   "id": "a712c7c9",
   "metadata": {},
   "outputs": [
    {
     "name": "stdout",
     "output_type": "stream",
     "text": [
      "jai pingakshaya gyan gun sagar\n"
     ]
    }
   ],
   "source": [
    "print(song1.replace('hanuman','pingakshaya'))"
   ]
  },
  {
   "cell_type": "code",
   "execution_count": 116,
   "id": "d616596b",
   "metadata": {},
   "outputs": [],
   "source": [
    "# rfind()\n",
    "# rfind() method returns an integer value.\n",
    "\n",
    "# If substring exists inside the string, it returns the highest index where substring is found.\n",
    "# If substring doesn't exist inside the string, it returns -1."
   ]
  },
  {
   "cell_type": "code",
   "execution_count": 117,
   "id": "40f3a00f",
   "metadata": {},
   "outputs": [],
   "source": [
    "Quote='He has completed his dummy project'"
   ]
  },
  {
   "cell_type": "code",
   "execution_count": 118,
   "id": "5683e5f7",
   "metadata": {},
   "outputs": [
    {
     "name": "stdout",
     "output_type": "stream",
     "text": [
      "7\n"
     ]
    }
   ],
   "source": [
    "print(Quote.rfind('completed'))"
   ]
  },
  {
   "cell_type": "code",
   "execution_count": 119,
   "id": "23fb094c",
   "metadata": {},
   "outputs": [
    {
     "name": "stdout",
     "output_type": "stream",
     "text": [
      "-1\n"
     ]
    }
   ],
   "source": [
    "print(Quote.rfind('get'))"
   ]
  },
  {
   "cell_type": "code",
   "execution_count": 120,
   "id": "2c29e0aa",
   "metadata": {},
   "outputs": [
    {
     "name": "stdout",
     "output_type": "stream",
     "text": [
      "21\n"
     ]
    }
   ],
   "source": [
    "print(Quote.rfind('dummy'))"
   ]
  },
  {
   "cell_type": "code",
   "execution_count": 121,
   "id": "6e0d700d",
   "metadata": {},
   "outputs": [],
   "source": [
    "# rindex()\n",
    "# If substring exists inside the string, it returns the highest index in the string where the substring is found.\n",
    "# If substring doesn't exist inside the string, it raises a ValueError exception.\n",
    "# rindex() method is similar to rfind() method for strings."
   ]
  },
  {
   "cell_type": "code",
   "execution_count": 122,
   "id": "baa60ba1",
   "metadata": {},
   "outputs": [],
   "source": [
    "quote= 'She went to parlour for a refresh'"
   ]
  },
  {
   "cell_type": "code",
   "execution_count": 124,
   "id": "48e5c7e0",
   "metadata": {},
   "outputs": [
    {
     "name": "stdout",
     "output_type": "stream",
     "text": [
      "4\n"
     ]
    }
   ],
   "source": [
    "print(quote.rindex('went'))"
   ]
  },
  {
   "cell_type": "code",
   "execution_count": 125,
   "id": "23b6e711",
   "metadata": {},
   "outputs": [
    {
     "name": "stdout",
     "output_type": "stream",
     "text": [
      "26\n"
     ]
    }
   ],
   "source": [
    "print(quote.rindex('refresh'))"
   ]
  },
  {
   "cell_type": "code",
   "execution_count": 126,
   "id": "4e2c2665",
   "metadata": {},
   "outputs": [],
   "source": [
    "# split()\n",
    "# The split() method splits a string at the specified separator and returns a list of substrings."
   ]
  },
  {
   "cell_type": "code",
   "execution_count": 135,
   "id": "7fc8584a",
   "metadata": {},
   "outputs": [],
   "source": [
    "quote_1= 'animal-fun-gun-sun'"
   ]
  },
  {
   "cell_type": "code",
   "execution_count": 136,
   "id": "9bc53ba4",
   "metadata": {},
   "outputs": [
    {
     "name": "stdout",
     "output_type": "stream",
     "text": [
      "['animal', 'fun', 'gun', 'sun']\n"
     ]
    }
   ],
   "source": [
    "print(quote_1.split('-'))"
   ]
  },
  {
   "cell_type": "code",
   "execution_count": 138,
   "id": "ab5a5ee7",
   "metadata": {},
   "outputs": [],
   "source": [
    "quote_2='what do you do for living?'"
   ]
  },
  {
   "cell_type": "code",
   "execution_count": 139,
   "id": "21bfdff9",
   "metadata": {},
   "outputs": [
    {
     "name": "stdout",
     "output_type": "stream",
     "text": [
      "['what', 'do', 'you', 'do', 'for', 'living?']\n"
     ]
    }
   ],
   "source": [
    "print(quote_2.split(' '))"
   ]
  },
  {
   "cell_type": "code",
   "execution_count": 140,
   "id": "4d48e8af",
   "metadata": {},
   "outputs": [],
   "source": [
    "# rsplit()\n",
    "# rsplit() breaks the string at the separator starting from the right and returns a list of strings."
   ]
  },
  {
   "cell_type": "code",
   "execution_count": 143,
   "id": "75023870",
   "metadata": {},
   "outputs": [],
   "source": [
    "mess= 'Respect your elders!'"
   ]
  },
  {
   "cell_type": "code",
   "execution_count": 144,
   "id": "98932c75",
   "metadata": {},
   "outputs": [
    {
     "name": "stdout",
     "output_type": "stream",
     "text": [
      "['Respect', 'your', 'elders!']\n"
     ]
    }
   ],
   "source": [
    "print(mess.rsplit(' '))"
   ]
  },
  {
   "cell_type": "code",
   "execution_count": 145,
   "id": "9589cd75",
   "metadata": {},
   "outputs": [],
   "source": [
    "mess1= 'Love your youngers!'"
   ]
  },
  {
   "cell_type": "code",
   "execution_count": 146,
   "id": "d22a9528",
   "metadata": {},
   "outputs": [
    {
     "name": "stdout",
     "output_type": "stream",
     "text": [
      "['Love', 'your', 'youngers!']\n"
     ]
    }
   ],
   "source": [
    "print(mess1.rsplit(' '))"
   ]
  },
  {
   "cell_type": "code",
   "execution_count": 149,
   "id": "959b4223",
   "metadata": {},
   "outputs": [],
   "source": [
    "mess2= 'bus_car_truck_auto_rikshaw_ghost'"
   ]
  },
  {
   "cell_type": "code",
   "execution_count": 150,
   "id": "a2fbf3e5",
   "metadata": {},
   "outputs": [
    {
     "name": "stdout",
     "output_type": "stream",
     "text": [
      "['bus', 'car', 'truck', 'auto', 'rikshaw', 'ghost']\n"
     ]
    }
   ],
   "source": [
    "print(mess2.rsplit('_'))"
   ]
  },
  {
   "cell_type": "code",
   "execution_count": 151,
   "id": "0786bc86",
   "metadata": {},
   "outputs": [],
   "source": [
    "# splitlines()\n",
    "# The splitlines() method returns:\n",
    "\n",
    "# a list of lines in the string.\n",
    "# If there are not line break characters, it returns a list with a single item (a single line)."
   ]
  },
  {
   "cell_type": "code",
   "execution_count": 152,
   "id": "2685893b",
   "metadata": {},
   "outputs": [],
   "source": [
    "line='Om\\nNamo\\nBhagavate\\nBasudevaya'"
   ]
  },
  {
   "cell_type": "code",
   "execution_count": 154,
   "id": "68934dde",
   "metadata": {},
   "outputs": [
    {
     "name": "stdout",
     "output_type": "stream",
     "text": [
      "['Om', 'Namo', 'Bhagavate', 'Basudevaya']\n"
     ]
    }
   ],
   "source": [
    "print(line.splitlines())"
   ]
  },
  {
   "cell_type": "code",
   "execution_count": 155,
   "id": "16e7c9d2",
   "metadata": {},
   "outputs": [],
   "source": [
    "line1= '''Yadevi\n",
    "        sarvabhuteshu\n",
    "        shakti\n",
    "        rupen\n",
    "        samsthitah'''"
   ]
  },
  {
   "cell_type": "code",
   "execution_count": 156,
   "id": "90915510",
   "metadata": {},
   "outputs": [
    {
     "name": "stdout",
     "output_type": "stream",
     "text": [
      "['Yadevi', '        sarvabhuteshu', '        shakti', '        rupen', '        samsthitah']\n"
     ]
    }
   ],
   "source": [
    "print(line1.splitlines())"
   ]
  },
  {
   "cell_type": "code",
   "execution_count": null,
   "id": "fef833a4",
   "metadata": {},
   "outputs": [],
   "source": []
  },
  {
   "cell_type": "code",
   "execution_count": null,
   "id": "e66e16f9",
   "metadata": {},
   "outputs": [],
   "source": []
  },
  {
   "cell_type": "code",
   "execution_count": null,
   "id": "ab0521e1",
   "metadata": {},
   "outputs": [],
   "source": []
  },
  {
   "cell_type": "code",
   "execution_count": null,
   "id": "c5c8075d",
   "metadata": {},
   "outputs": [],
   "source": []
  },
  {
   "cell_type": "code",
   "execution_count": 7,
   "id": "e4f6081b",
   "metadata": {},
   "outputs": [],
   "source": [
    "def my_func(name,ph,state=\"karnataka\"):\n",
    "    print(\"username: \",name)\n",
    "    print(\"phone: \",ph)\n",
    "    print(\"state: \",state)"
   ]
  },
  {
   "cell_type": "code",
   "execution_count": 8,
   "id": "c31122a2",
   "metadata": {},
   "outputs": [
    {
     "name": "stdout",
     "output_type": "stream",
     "text": [
      "username:  subh\n",
      "phone:  1234\n",
      "state:  karnataka\n"
     ]
    }
   ],
   "source": [
    "my_func(\"subh\",1234)"
   ]
  },
  {
   "cell_type": "code",
   "execution_count": 16,
   "id": "8dcbfd42",
   "metadata": {},
   "outputs": [],
   "source": [
    "def func_2():\n",
    "    for i in range(1,6):\n",
    "        print(i)\n",
    "    range(1,6) \n",
    "        "
   ]
  },
  {
   "cell_type": "code",
   "execution_count": 17,
   "id": "a541b7c5",
   "metadata": {},
   "outputs": [
    {
     "name": "stdout",
     "output_type": "stream",
     "text": [
      "1\n",
      "2\n",
      "3\n",
      "4\n",
      "5\n"
     ]
    }
   ],
   "source": [
    "func_2()"
   ]
  },
  {
   "cell_type": "code",
   "execution_count": null,
   "id": "65a9f7d8",
   "metadata": {},
   "outputs": [],
   "source": []
  }
 ],
 "metadata": {
  "kernelspec": {
   "display_name": "Python 3 (ipykernel)",
   "language": "python",
   "name": "python3"
  },
  "language_info": {
   "codemirror_mode": {
    "name": "ipython",
    "version": 3
   },
   "file_extension": ".py",
   "mimetype": "text/x-python",
   "name": "python",
   "nbconvert_exporter": "python",
   "pygments_lexer": "ipython3",
   "version": "3.9.7"
  }
 },
 "nbformat": 4,
 "nbformat_minor": 5
}
