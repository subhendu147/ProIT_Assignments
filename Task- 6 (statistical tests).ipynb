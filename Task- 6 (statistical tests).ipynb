{
 "cells": [
  {
   "cell_type": "markdown",
   "id": "30642297",
   "metadata": {},
   "source": [
    "### Come up with 2 examples on each statistic method tests"
   ]
  },
  {
   "cell_type": "code",
   "execution_count": null,
   "id": "1a6a8a92",
   "metadata": {},
   "outputs": [],
   "source": []
  },
  {
   "cell_type": "markdown",
   "id": "7b648d27",
   "metadata": {},
   "source": [
    "#### 1. One sample t-test"
   ]
  },
  {
   "cell_type": "markdown",
   "id": "be942419",
   "metadata": {},
   "source": [
    "let's say you have a sample of exam scores and want to test if the average score is \n",
    "significantly different from a hypothesized mean."
   ]
  },
  {
   "cell_type": "code",
   "execution_count": 1,
   "id": "4385ed1f",
   "metadata": {},
   "outputs": [
    {
     "name": "stdout",
     "output_type": "stream",
     "text": [
      "T-statistic: -0.7152239460985773\n",
      "P-value: 0.49260628409830287\n",
      "Fail to reject the null hypothesis: There is not enough evidence to conclude a significant difference.\n"
     ]
    }
   ],
   "source": [
    "import numpy as np\n",
    "from scipy.stats import ttest_1samp\n",
    "\n",
    "\n",
    "sample_scores = np.array([72, 78, 85, 88, 95, 90, 82, 88, 76, 80])\n",
    "\n",
    "# Hypothesized mean\n",
    "hypothesized_mean = 85\n",
    "\n",
    "# Perform one-sample t-test\n",
    "t_statistic, p_value = ttest_1samp(sample_scores, hypothesized_mean)\n",
    "\n",
    "# Print results\n",
    "print(f\"T-statistic: {t_statistic}\")\n",
    "print(f\"P-value: {p_value}\")\n",
    "\n",
    "\n",
    "if p_value < 0.05:\n",
    "    print(\"Reject the null hypothesis: The sample mean is significantly different from the hypothesized mean.\")\n",
    "else:\n",
    "    print(\"Fail to reject the null hypothesis: There is not enough evidence to conclude a significant difference.\")\n"
   ]
  },
  {
   "cell_type": "code",
   "execution_count": null,
   "id": "8d4c55fa",
   "metadata": {},
   "outputs": [],
   "source": []
  },
  {
   "cell_type": "markdown",
   "id": "0462f475",
   "metadata": {},
   "source": [
    "assuming we have a sample of weights from a population and want to test if the sample mean is\n",
    "significantly different from the known population mean."
   ]
  },
  {
   "cell_type": "code",
   "execution_count": 2,
   "id": "eec92be6",
   "metadata": {},
   "outputs": [
    {
     "name": "stdout",
     "output_type": "stream",
     "text": [
      "T-statistic: 0.5222329678670935\n",
      "P-value: 0.614117254808394\n",
      "Fail to reject the null hypothesis: There is not enough evidence to conclude a significant difference.\n"
     ]
    }
   ],
   "source": [
    "import numpy as np\n",
    "from scipy.stats import ttest_1samp\n",
    "\n",
    "# Sample data\n",
    "sample_weights = np.array([150, 155, 160, 165, 170, 175, 180, 185, 190, 195])\n",
    "\n",
    "# Known population mean\n",
    "population_mean = 170\n",
    "\n",
    "# Perform one-sample t-test\n",
    "t_statistic, p_value = ttest_1samp(sample_weights, population_mean)\n",
    "\n",
    "# Print results\n",
    "print(f\"T-statistic: {t_statistic}\")\n",
    "print(f\"P-value: {p_value}\")\n",
    "\n",
    "\n",
    "if p_value < 0.05:\n",
    "    print(\"Reject the null hypothesis: The sample mean is significantly different from the population mean.\")\n",
    "else:\n",
    "    print(\"Fail to reject the null hypothesis: There is not enough evidence to conclude a significant difference.\")\n"
   ]
  },
  {
   "cell_type": "code",
   "execution_count": null,
   "id": "56151317",
   "metadata": {},
   "outputs": [],
   "source": []
  },
  {
   "cell_type": "code",
   "execution_count": null,
   "id": "dac450e2",
   "metadata": {},
   "outputs": [],
   "source": []
  },
  {
   "cell_type": "markdown",
   "id": "7d875de4",
   "metadata": {},
   "source": [
    "### 2 . Two sample t test"
   ]
  },
  {
   "cell_type": "markdown",
   "id": "ba9023ea",
   "metadata": {},
   "source": [
    "A company wants to assess if there is a significant difference in the average sales performance between \n",
    "two different sales teams, Team A and Team B."
   ]
  },
  {
   "cell_type": "code",
   "execution_count": 3,
   "id": "9b48acf6",
   "metadata": {},
   "outputs": [
    {
     "name": "stdout",
     "output_type": "stream",
     "text": [
      "Reject the null hypothesis. There is a significant difference in sales performance.\n"
     ]
    }
   ],
   "source": [
    "import numpy as np\n",
    "from scipy.stats import ttest_ind\n",
    "\n",
    "# Generate sample data for sales performance\n",
    "np.random.seed(42)  # for reproducibility\n",
    "sales_team_a = np.random.normal(loc=500, scale=50, size=30)\n",
    "sales_team_b = np.random.normal(loc=520, scale=45, size=30)\n",
    "\n",
    "# Perform two-sample t-test\n",
    "t_statistic, p_value = ttest_ind(sales_team_a, sales_team_b)\n",
    "\n",
    "# Interpretation\n",
    "alpha = 0.05\n",
    "if p_value < alpha:\n",
    "    conclusion = \"Reject the null hypothesis. There is a significant difference in sales performance.\"\n",
    "else:\n",
    "    conclusion = \"Fail to reject the null hypothesis. There is no significant difference in sales performance.\"\n",
    "\n",
    "print(conclusion)\n"
   ]
  },
  {
   "cell_type": "code",
   "execution_count": null,
   "id": "2aeb80e3",
   "metadata": {},
   "outputs": [],
   "source": []
  },
  {
   "cell_type": "markdown",
   "id": "eeb13a22",
   "metadata": {},
   "source": [
    "An e-commerce company wants to determine if a website redesign has a significant impact on conversion rates. \n",
    "They compare the conversion rates before and after the redesign."
   ]
  },
  {
   "cell_type": "code",
   "execution_count": 4,
   "id": "cb977677",
   "metadata": {},
   "outputs": [
    {
     "name": "stdout",
     "output_type": "stream",
     "text": [
      "Reject the null hypothesis. The website redesign has a significant impact on conversion rates.\n"
     ]
    }
   ],
   "source": [
    "import numpy as np\n",
    "from scipy.stats import ttest_ind\n",
    "\n",
    "# Generate sample data for conversion rates\n",
    "np.random.seed(42)\n",
    "conversion_before_redesign = np.random.normal(loc=0.1, scale=0.02, size=50)\n",
    "conversion_after_redesign = np.random.normal(loc=0.12, scale=0.02, size=50)\n",
    "\n",
    "# Perform two-sample t-test\n",
    "t_statistic, p_value = ttest_ind(conversion_before_redesign, conversion_after_redesign)\n",
    "\n",
    "# Interpretation\n",
    "alpha = 0.05\n",
    "if p_value < alpha:\n",
    "    conclusion = \"Reject the null hypothesis. The website redesign has a significant impact on conversion rates.\"\n",
    "else:\n",
    "    conclusion = \"Fail to reject the null hypothesis. There is no significant impact on conversion rates.\"\n",
    "\n",
    "print(conclusion)\n"
   ]
  },
  {
   "cell_type": "code",
   "execution_count": null,
   "id": "f57cd1e8",
   "metadata": {},
   "outputs": [],
   "source": []
  },
  {
   "cell_type": "markdown",
   "id": "4a2c4340",
   "metadata": {},
   "source": [
    "### 3. One sample proportion test"
   ]
  },
  {
   "cell_type": "code",
   "execution_count": null,
   "id": "688e9933",
   "metadata": {},
   "outputs": [],
   "source": []
  },
  {
   "cell_type": "markdown",
   "id": "37697cbe",
   "metadata": {},
   "source": [
    "A manufacturer claims that only 8% of their products are defective. \n",
    "A sample is taken to test this claim from random sample 200 products ."
   ]
  },
  {
   "cell_type": "code",
   "execution_count": 9,
   "id": "907a9bc7",
   "metadata": {},
   "outputs": [
    {
     "name": "stdout",
     "output_type": "stream",
     "text": [
      "Z-statistic: 0.0\n",
      "P-value: 1.0\n",
      "Fail to reject the null hypothesis: There is not enough evidence to claim a significant difference from 8%.\n"
     ]
    }
   ],
   "source": [
    "import numpy as np\n",
    "from statsmodels.stats.proportion import proportions_ztest\n",
    "\n",
    "total_products = 200\n",
    "defective_products = 16  \n",
    "expected_proportion = 0.08\n",
    "\n",
    "\n",
    "z_statistic, p_value = proportions_ztest(defective_products, total_products, expected_proportion)\n",
    "print(f'Z-statistic: {z_statistic}')\n",
    "print(f'P-value: {p_value}')\n",
    "\n",
    "alpha = 0.05\n",
    "if p_value < alpha:\n",
    "    print(\"Reject the null hypothesis: The proportion of defective products is significantly different from 8%.\")\n",
    "else:\n",
    "    print(\"Fail to reject the null hypothesis: There is not enough evidence to claim a significant difference from 8%.\")\n"
   ]
  },
  {
   "cell_type": "code",
   "execution_count": null,
   "id": "1fcbe5ff",
   "metadata": {},
   "outputs": [],
   "source": []
  },
  {
   "cell_type": "markdown",
   "id": "9c942da8",
   "metadata": {},
   "source": [
    "### 4. Two sample proportion test"
   ]
  },
  {
   "cell_type": "code",
   "execution_count": null,
   "id": "a344afe5",
   "metadata": {},
   "outputs": [],
   "source": []
  },
  {
   "cell_type": "markdown",
   "id": "6e97de9b",
   "metadata": {},
   "source": [
    "Testing for Website Conversion Rates"
   ]
  },
  {
   "cell_type": "code",
   "execution_count": 11,
   "id": "fbbea603",
   "metadata": {},
   "outputs": [
    {
     "name": "stdout",
     "output_type": "stream",
     "text": [
      "There is no statistically significant difference in conversion rates between the two website versions.\n"
     ]
    }
   ],
   "source": [
    "import numpy as np\n",
    "from statsmodels.stats.proportion import proportions_ztest\n",
    "\n",
    "# Example data: Number of conversions and total visitors for two website versions\n",
    "successes_ctrl, nobs_ctrl = 150, 1000\n",
    "successes_exp, nobs_exp = 180, 1000\n",
    "\n",
    "# Perform two-sample proportion test\n",
    "stat, p_value = proportions_ztest([successes_ctrl, successes_exp], [nobs_ctrl, nobs_exp])\n",
    "\n",
    "\n",
    "if p_value < 0.05:\n",
    "    print(\"There is a statistically significant difference in conversion rates between the two website versions.\")\n",
    "else:\n",
    "    print(\"There is no statistically significant difference in conversion rates between the two website versions.\")\n"
   ]
  },
  {
   "cell_type": "markdown",
   "id": "792a5bff",
   "metadata": {},
   "source": [
    "The results of the two-sample proportion test indicate that there is a statistically significant difference in conversion rates between the control and experimental groups. This suggests that the changes made to the experimental version have a significant impact on user engagement\n",
    "and conversion"
   ]
  },
  {
   "cell_type": "code",
   "execution_count": null,
   "id": "020d030c",
   "metadata": {},
   "outputs": [],
   "source": []
  },
  {
   "cell_type": "code",
   "execution_count": null,
   "id": "e54bb20c",
   "metadata": {},
   "outputs": [],
   "source": []
  },
  {
   "cell_type": "markdown",
   "id": "47e756a5",
   "metadata": {},
   "source": [
    "Product Preference in Market Research"
   ]
  },
  {
   "cell_type": "code",
   "execution_count": 12,
   "id": "88d47a91",
   "metadata": {},
   "outputs": [
    {
     "name": "stdout",
     "output_type": "stream",
     "text": [
      "There is a statistically significant difference in product preference between Product A and Product B.\n"
     ]
    }
   ],
   "source": [
    "import numpy as np\n",
    "from statsmodels.stats.proportion import proportions_ztest\n",
    "\n",
    "# Example data: Number of customers preferring Product A and Product B\n",
    "pref_A, total_A = 80, 200\n",
    "pref_B, total_B = 120, 200\n",
    "\n",
    "# Perform two-sample proportion test\n",
    "stat, p_value = proportions_ztest([pref_A, pref_B], [total_A, total_B])\n",
    "\n",
    "# Business statement\n",
    "if p_value < 0.05:\n",
    "    print(\"There is a statistically significant difference in product preference between Product A and Product B.\")\n",
    "else:\n",
    "    print(\"There is no statistically significant difference in product preference between Product A and Product B.\")\n"
   ]
  },
  {
   "cell_type": "code",
   "execution_count": null,
   "id": "29eaba43",
   "metadata": {},
   "outputs": [],
   "source": []
  },
  {
   "cell_type": "code",
   "execution_count": null,
   "id": "ea0f9e34",
   "metadata": {},
   "outputs": [],
   "source": []
  },
  {
   "cell_type": "markdown",
   "id": "6af34812",
   "metadata": {},
   "source": [
    "### 5. Anova (Analysis of variance) Test"
   ]
  },
  {
   "cell_type": "code",
   "execution_count": null,
   "id": "8206ade4",
   "metadata": {},
   "outputs": [],
   "source": []
  },
  {
   "cell_type": "code",
   "execution_count": 13,
   "id": "c8151de1",
   "metadata": {},
   "outputs": [
    {
     "name": "stdout",
     "output_type": "stream",
     "text": [
      "There is no significant difference in the means of the three groups.\n"
     ]
    }
   ],
   "source": [
    "import scipy.stats as stats\n",
    "import pandas as pd\n",
    "\n",
    "# Sample data for three groups\n",
    "group1 = [15, 20, 25, 30, 35]\n",
    "group2 = [10, 18, 25, 32, 40]\n",
    "group3 = [5, 15, 20, 25, 30]\n",
    "\n",
    "# Creating a DataFrame\n",
    "data = pd.DataFrame({'Group1': group1, 'Group2': group2, 'Group3': group3})\n",
    "\n",
    "# Performing one-way ANOVA\n",
    "f_statistic, p_value = stats.f_oneway(data['Group1'], data['Group2'], data['Group3'])\n",
    "\n",
    "# Business statement\n",
    "if p_value < 0.05:\n",
    "    print(\"There is a significant difference in the means of the three groups.\")\n",
    "else:\n",
    "    print(\"There is no significant difference in the means of the three groups.\")\n"
   ]
  },
  {
   "cell_type": "markdown",
   "id": "7b33ee24",
   "metadata": {},
   "source": [
    "we have three groups, and the ANOVA test is used to determine if there is a significant difference in the means of these groups.\n",
    "The business statement interprets the results in the context of whether the groups exhibit statistically different means."
   ]
  },
  {
   "cell_type": "code",
   "execution_count": null,
   "id": "5bba9c48",
   "metadata": {},
   "outputs": [],
   "source": []
  },
  {
   "cell_type": "code",
   "execution_count": null,
   "id": "36331d62",
   "metadata": {},
   "outputs": [],
   "source": []
  },
  {
   "cell_type": "markdown",
   "id": "a6b66a9a",
   "metadata": {},
   "source": [
    "### 6. Chi-square test"
   ]
  },
  {
   "cell_type": "markdown",
   "id": "fc870a74",
   "metadata": {},
   "source": [
    "The chi-square test is a statistical test used to determine if there is a significant association \n",
    "between two categorical variables."
   ]
  },
  {
   "cell_type": "markdown",
   "id": "dcd6b845",
   "metadata": {},
   "source": [
    "Suppose you are a manager at a manufacturing company that produces different types of products (A, B, C). \n",
    "You want to assess whether the distribution of produced products matches the expected distribution based on historical data."
   ]
  },
  {
   "cell_type": "code",
   "execution_count": 15,
   "id": "ff2eb65b",
   "metadata": {},
   "outputs": [
    {
     "ename": "ValueError",
     "evalue": "too many values to unpack (expected 3)",
     "output_type": "error",
     "traceback": [
      "\u001b[1;31m---------------------------------------------------------------------------\u001b[0m",
      "\u001b[1;31mValueError\u001b[0m                                Traceback (most recent call last)",
      "\u001b[1;32m~\\AppData\\Local\\Temp/ipykernel_28700/2423666634.py\u001b[0m in \u001b[0;36m<module>\u001b[1;34m\u001b[0m\n\u001b[0;32m     12\u001b[0m \u001b[1;33m\u001b[0m\u001b[0m\n\u001b[0;32m     13\u001b[0m \u001b[1;31m# Perform Chi-square goodness-of-fit test\u001b[0m\u001b[1;33m\u001b[0m\u001b[1;33m\u001b[0m\u001b[0m\n\u001b[1;32m---> 14\u001b[1;33m \u001b[0mchi2\u001b[0m\u001b[1;33m,\u001b[0m \u001b[0mp\u001b[0m\u001b[1;33m,\u001b[0m \u001b[0m_\u001b[0m \u001b[1;33m=\u001b[0m \u001b[0mchi2_contingency\u001b[0m\u001b[1;33m(\u001b[0m\u001b[1;33m[\u001b[0m\u001b[0mobserved_data\u001b[0m\u001b[1;33m,\u001b[0m \u001b[0mexpected_data\u001b[0m\u001b[1;33m]\u001b[0m\u001b[1;33m)\u001b[0m\u001b[1;33m\u001b[0m\u001b[1;33m\u001b[0m\u001b[0m\n\u001b[0m\u001b[0;32m     15\u001b[0m \u001b[1;33m\u001b[0m\u001b[0m\n\u001b[0;32m     16\u001b[0m \u001b[1;31m# Business statement based on the p-value\u001b[0m\u001b[1;33m\u001b[0m\u001b[1;33m\u001b[0m\u001b[0m\n",
      "\u001b[1;31mValueError\u001b[0m: too many values to unpack (expected 3)"
     ]
    }
   ],
   "source": [
    "import numpy as np\n",
    "from scipy.stats import chi2_contingency\n",
    "\n",
    "# Observed data (actual production)\n",
    "observed_data = np.array([150, 120, 130])\n",
    "\n",
    "# Expected distribution (based on historical data)\n",
    "expected_distribution = np.array([0.4, 0.3, 0.3])\n",
    "\n",
    "# Calculate expected values\n",
    "expected_data = expected_distribution * np.sum(observed_data)\n",
    "\n",
    "# Perform Chi-square goodness-of-fit test\n",
    "chi2, p, _ = chi2_contingency([observed_data, expected_data])\n",
    "\n",
    "# Business statement based on the p-value\n",
    "if p < 0.05:\n",
    "    print(\"There is a significant difference between the observed and expected product distribution.\")\n",
    "else:\n",
    "    print(\"The observed product distribution is consistent with the expected distribution.\")\n"
   ]
  },
  {
   "cell_type": "code",
   "execution_count": null,
   "id": "eebe87bc",
   "metadata": {},
   "outputs": [],
   "source": []
  }
 ],
 "metadata": {
  "kernelspec": {
   "display_name": "Python 3 (ipykernel)",
   "language": "python",
   "name": "python3"
  },
  "language_info": {
   "codemirror_mode": {
    "name": "ipython",
    "version": 3
   },
   "file_extension": ".py",
   "mimetype": "text/x-python",
   "name": "python",
   "nbconvert_exporter": "python",
   "pygments_lexer": "ipython3",
   "version": "3.9.7"
  }
 },
 "nbformat": 4,
 "nbformat_minor": 5
}
